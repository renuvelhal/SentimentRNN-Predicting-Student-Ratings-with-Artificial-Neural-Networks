{
  "nbformat": 4,
  "nbformat_minor": 0,
  "metadata": {
    "colab": {
      "provenance": [],
      "collapsed_sections": [
        "3bZNdgv_WaAe",
        "eMOn7SQtxWfE",
        "uVCj2whSOMcU",
        "xqJ6oRfcD7_5",
        "g_jdG76pzyRg",
        "4cvRfA3OOUWl"
      ]
    },
    "kernelspec": {
      "name": "python3",
      "display_name": "Python 3"
    },
    "language_info": {
      "name": "python"
    }
  },
  "cells": [
    {
      "cell_type": "markdown",
      "source": [
        "# **Project 2 - Embedding and Recurrent Neural Networks: Group 4**\n",
        "\n",
        "**CPSC 585-02**: Artificial Neural Networks\n",
        "\n",
        "**Due Date**: April 29, 2023\n",
        "\n",
        "**Team Members:**\n",
        "\n",
        "*   Kishore Shankar Abimanyu\n",
        "\n",
        "*   Angelica Cabato\n",
        "\n",
        "*   Nicholas Fonseca\n",
        "\n",
        "*   Sasha Ramnath Rahane\n",
        "\n",
        "*   Renu Sushant Velhal\n",
        "\n",
        "*   Aniket Wattamwar\n"
      ],
      "metadata": {
        "id": "M989rQts3Dee"
      }
    },
    {
      "cell_type": "markdown",
      "source": [
        "The goal of this project is to use the text in a RateMyProfessor.com review to predict the difficulty and quality score the reviewer assigned to the professor. To do this, we used the datasets provided by Dr. Hibo Je's - specifically the sample data - and dataset provided on Kaggle. We used NLTK to preprocess the dataset, and then used GLoVe's pre-trained word embedding.\n",
        "\n",
        "Further down in this notebook are the various models we built for this project: LSTM, GRU, and Text Classification. We trained a LSTM and a GRU model, finding that the GRU model outperformed the LSTM. Finally, we trained a model utilizing text classification and found that our training MSE was .670. Although the models performed similarly, the Text Classification model ultimately had better performance in terms of loss and metric scores."
      ],
      "metadata": {
        "id": "2uCCBKJW3k7m"
      }
    },
    {
      "cell_type": "markdown",
      "source": [
        "# Loading Dataset"
      ],
      "metadata": {
        "id": "3bZNdgv_WaAe"
      }
    },
    {
      "cell_type": "markdown",
      "source": [
        "First, we will load the two example datasets provided in the project description. The two datasets are Dr. Je's sample data, and the Kaggle data."
      ],
      "metadata": {
        "id": "7xQg2ABTrsPK"
      }
    },
    {
      "cell_type": "markdown",
      "source": [
        "\n",
        "First, we mount drive into colab."
      ],
      "metadata": {
        "id": "SoCjDKpOS0l0"
      }
    },
    {
      "cell_type": "code",
      "source": [
        "from google.colab import drive\n",
        "import matplotlib.pyplot as plt\n",
        "drive.mount('/content/drive')\n"
      ],
      "metadata": {
        "colab": {
          "base_uri": "https://localhost:8080/"
        },
        "id": "-79D-FRoSuec",
        "outputId": "fd8b03db-3f83-4099-b640-23e679018913"
      },
      "execution_count": null,
      "outputs": [
        {
          "output_type": "stream",
          "name": "stdout",
          "text": [
            "Mounted at /content/drive\n"
          ]
        }
      ]
    },
    {
      "cell_type": "markdown",
      "source": [
        "Then, Dr. Je's sample dataset is loaded.\n",
        "\n"
      ],
      "metadata": {
        "id": "FKaGorgQTFDb"
      }
    },
    {
      "cell_type": "code",
      "source": [
        "csvFile = '/content/drive/MyDrive/RateMyProfessor_Sample data.csv'"
      ],
      "metadata": {
        "id": "wlMQKiBCTIxo"
      },
      "execution_count": null,
      "outputs": []
    },
    {
      "cell_type": "markdown",
      "source": [
        "Quality, difficulty, and comments sections are read and stored into a pandas dataframe."
      ],
      "metadata": {
        "id": "w552LdjiT1wc"
      }
    },
    {
      "cell_type": "code",
      "source": [
        "import pandas as pd\n",
        "csvdf = pd.read_csv(csvFile, usecols=['student_star', 'student_difficult', 'comments'])"
      ],
      "metadata": {
        "id": "j0paePPWTRLF"
      },
      "execution_count": null,
      "outputs": []
    },
    {
      "cell_type": "markdown",
      "source": [
        "Display the dataframe"
      ],
      "metadata": {
        "id": "ZNpdr5xTUG2L"
      }
    },
    {
      "cell_type": "code",
      "source": [
        "print(csvdf)"
      ],
      "metadata": {
        "id": "pYHsOF_UTV6C",
        "colab": {
          "base_uri": "https://localhost:8080/"
        },
        "outputId": "db68663b-802a-4130-b2e4-196389ac0e74"
      },
      "execution_count": null,
      "outputs": [
        {
          "output_type": "stream",
          "name": "stdout",
          "text": [
            "       student_star  student_difficult  \\\n",
            "0               5.0                3.0   \n",
            "1               5.0                2.0   \n",
            "2               4.0                3.0   \n",
            "3               5.0                3.0   \n",
            "4               5.0                1.0   \n",
            "...             ...                ...   \n",
            "19995           1.5                5.0   \n",
            "19996           2.5                4.0   \n",
            "19997           5.0                3.0   \n",
            "19998           4.0                5.0   \n",
            "19999           5.0                2.0   \n",
            "\n",
            "                                                comments  \n",
            "0      This class is hard, but its a two-in-one gen-e...  \n",
            "1      Definitely going to choose Prof. Looney\\'s cla...  \n",
            "2      I overall enjoyed this class because the assig...  \n",
            "3      Yes, it\\'s possible to get an A but you\\'ll de...  \n",
            "4      Professor Looney has great knowledge in Astron...  \n",
            "...                                                  ...  \n",
            "19995   Great sense of humor!!!! Love parasites now!!!!!  \n",
            "19996  he is a really nice guy and is really funny..h...  \n",
            "19997  His parasitology class is a lot of work but he...  \n",
            "19998  He is WAY too much work for a 1 credit class. ...  \n",
            "19999  Extremely easy lab teacher, quizzes are a litt...  \n",
            "\n",
            "[20000 rows x 3 columns]\n"
          ]
        }
      ]
    },
    {
      "cell_type": "markdown",
      "source": [
        "Appears to be correct. This provides us with 20000 samples.\n",
        "\n",
        "Next we use glom to read in the JSON data"
      ],
      "metadata": {
        "id": "wrchDadIUNK-"
      }
    },
    {
      "cell_type": "code",
      "source": [
        "!pip install glom\n",
        "from glom import glom"
      ],
      "metadata": {
        "id": "u8xTUfLfTYjl",
        "colab": {
          "base_uri": "https://localhost:8080/"
        },
        "outputId": "83cb7ce9-b38b-458c-d973-4ef3655ddef5"
      },
      "execution_count": null,
      "outputs": [
        {
          "output_type": "stream",
          "name": "stdout",
          "text": [
            "Looking in indexes: https://pypi.org/simple, https://us-python.pkg.dev/colab-wheels/public/simple/\n",
            "Collecting glom\n",
            "  Downloading glom-23.3.0-py3-none-any.whl (101 kB)\n",
            "\u001b[2K     \u001b[90m━━━━━━━━━━━━━━━━━━━━━━━━━━━━━━━━━━━━━━━\u001b[0m \u001b[32m101.9/101.9 kB\u001b[0m \u001b[31m4.2 MB/s\u001b[0m eta \u001b[36m0:00:00\u001b[0m\n",
            "\u001b[?25hCollecting boltons>=19.3.0\n",
            "  Downloading boltons-23.0.0-py2.py3-none-any.whl (194 kB)\n",
            "\u001b[2K     \u001b[90m━━━━━━━━━━━━━━━━━━━━━━━━━━━━━━━━━━━━━━\u001b[0m \u001b[32m194.8/194.8 kB\u001b[0m \u001b[31m11.7 MB/s\u001b[0m eta \u001b[36m0:00:00\u001b[0m\n",
            "\u001b[?25hCollecting face==20.1.1\n",
            "  Downloading face-20.1.1-py3-none-any.whl (51 kB)\n",
            "\u001b[2K     \u001b[90m━━━━━━━━━━━━━━━━━━━━━━━━━━━━━━━━━━━━━━━━\u001b[0m \u001b[32m51.1/51.1 kB\u001b[0m \u001b[31m6.2 MB/s\u001b[0m eta \u001b[36m0:00:00\u001b[0m\n",
            "\u001b[?25hRequirement already satisfied: attrs in /usr/local/lib/python3.10/dist-packages (from glom) (23.1.0)\n",
            "Installing collected packages: boltons, face, glom\n",
            "Successfully installed boltons-23.0.0 face-20.1.1 glom-23.3.0\n"
          ]
        }
      ]
    },
    {
      "cell_type": "markdown",
      "source": [
        "Now, we read Kaggle's JSON file in, also pulling out the comments, quality, and difficulty."
      ],
      "metadata": {
        "id": "kpI4F1DxUpqo"
      }
    },
    {
      "cell_type": "code",
      "source": [
        "import json\n",
        "# Open the file for reading\n",
        "\n",
        "jsonFile = '/content/drive/MyDrive/all_reviews.json'\n",
        "\n",
        "#read csv file into\n",
        "\n",
        "jsondf = pd.read_json(jsonFile)\n",
        "\n",
        "comments=jsondf[0].apply(lambda row: glom(row, 'Comment'))\n",
        "quality=jsondf[0].apply(lambda row: glom(row, 'Quality'))\n",
        "difficulty=jsondf[0].apply(lambda row: glom(row, 'Difficulty'))\n",
        "\n",
        "print(comments)\n",
        "print(quality)\n",
        "print(difficulty)\n",
        "\n",
        ""
      ],
      "metadata": {
        "id": "_Ku5D5JBTesG",
        "colab": {
          "base_uri": "https://localhost:8080/"
        },
        "outputId": "f5efcf11-2fdd-4950-abcc-5375147c1934"
      },
      "execution_count": null,
      "outputs": [
        {
          "output_type": "stream",
          "name": "stdout",
          "text": [
            "0      Professor Nichols is super nice and very whole...\n",
            "1      Prof Humes is really knowledgeable, but her le...\n",
            "2      If you fall behind it's almost impossible to c...\n",
            "3      Prof. Meyer is intensely brilliant and provoke...\n",
            "4      Would not recommend taking him for fhs or even...\n",
            "                             ...                        \n",
            "283       He's super brilliant, passionate, and helpful.\n",
            "284    Took IBC with Sanii and really enjoyed him. I ...\n",
            "285    This was my first college bio class and it was...\n",
            "286    Henri Cole is not only an amazing poet, but al...\n",
            "287    As my first econ class, I got exactly what I e...\n",
            "Name: 0, Length: 288, dtype: object\n",
            "0      5.0\n",
            "1      4.0\n",
            "2      3.0\n",
            "3      4.5\n",
            "4      1.0\n",
            "      ... \n",
            "283    5.0\n",
            "284    5.0\n",
            "285    3.5\n",
            "286    5.0\n",
            "287    4.0\n",
            "Name: 0, Length: 288, dtype: object\n",
            "0      2.0\n",
            "1      4.0\n",
            "2      4.0\n",
            "3      4.0\n",
            "4      4.0\n",
            "      ... \n",
            "283    3.0\n",
            "284    5.0\n",
            "285    3.0\n",
            "286    2.0\n",
            "287    3.0\n",
            "Name: 0, Length: 288, dtype: object\n"
          ]
        }
      ]
    },
    {
      "cell_type": "markdown",
      "source": [
        "## **Cleaning and Combining Datasets**"
      ],
      "metadata": {
        "id": "wBW4M20kuHw2"
      }
    },
    {
      "cell_type": "markdown",
      "source": [
        "We then combine the two datasets, and clear out any garbage data."
      ],
      "metadata": {
        "id": "1Y74wL-msctv"
      }
    },
    {
      "cell_type": "markdown",
      "source": [
        "**Pre-processing Larger Dataset from Dr. Hibo Je at Tsinghua University**"
      ],
      "metadata": {
        "id": "0MKfcviFui-J"
      }
    },
    {
      "cell_type": "code",
      "source": [
        "# Looking at the csvdf data format\n",
        "csvdf.info()"
      ],
      "metadata": {
        "id": "6J9ZDNz1uLgJ",
        "colab": {
          "base_uri": "https://localhost:8080/"
        },
        "outputId": "e0354453-5eb0-4d54-8140-b51a5f60ac07"
      },
      "execution_count": null,
      "outputs": [
        {
          "output_type": "stream",
          "name": "stdout",
          "text": [
            "<class 'pandas.core.frame.DataFrame'>\n",
            "RangeIndex: 20000 entries, 0 to 19999\n",
            "Data columns (total 3 columns):\n",
            " #   Column             Non-Null Count  Dtype  \n",
            "---  ------             --------------  -----  \n",
            " 0   student_star       19995 non-null  float64\n",
            " 1   student_difficult  19995 non-null  float64\n",
            " 2   comments           19993 non-null  object \n",
            "dtypes: float64(2), object(1)\n",
            "memory usage: 468.9+ KB\n"
          ]
        }
      ]
    },
    {
      "cell_type": "code",
      "source": [
        "# Dropping rows with missing values\n",
        "csvdf = csvdf.dropna()"
      ],
      "metadata": {
        "id": "tYXpLgoUuU-h"
      },
      "execution_count": null,
      "outputs": []
    },
    {
      "cell_type": "code",
      "source": [
        "# Checking how many rows were dropped - only dropped 2 rows.\n",
        "csvdf.info()"
      ],
      "metadata": {
        "id": "ijJ5fufquc3q",
        "colab": {
          "base_uri": "https://localhost:8080/"
        },
        "outputId": "fa8ebd2e-e0cd-4a56-f794-379ba31120ad"
      },
      "execution_count": null,
      "outputs": [
        {
          "output_type": "stream",
          "name": "stdout",
          "text": [
            "<class 'pandas.core.frame.DataFrame'>\n",
            "Int64Index: 19993 entries, 0 to 19999\n",
            "Data columns (total 3 columns):\n",
            " #   Column             Non-Null Count  Dtype  \n",
            "---  ------             --------------  -----  \n",
            " 0   student_star       19993 non-null  float64\n",
            " 1   student_difficult  19993 non-null  float64\n",
            " 2   comments           19993 non-null  object \n",
            "dtypes: float64(2), object(1)\n",
            "memory usage: 624.8+ KB\n"
          ]
        }
      ]
    },
    {
      "cell_type": "markdown",
      "source": [
        "**Pre-processing Smaller Dataset from Kaggle**"
      ],
      "metadata": {
        "id": "BtTBQMCYurov"
      }
    },
    {
      "cell_type": "code",
      "source": [
        "# Checking if comments, quality, or difficult have any Na's\n",
        "print(comments.hasnans)\n",
        "print(quality.hasnans)\n",
        "print(difficulty.hasnans)"
      ],
      "metadata": {
        "id": "xIbpOlpwuwqu",
        "colab": {
          "base_uri": "https://localhost:8080/"
        },
        "outputId": "5d721864-47ca-4103-b21d-6783e12fb433"
      },
      "execution_count": null,
      "outputs": [
        {
          "output_type": "stream",
          "name": "stdout",
          "text": [
            "False\n",
            "False\n",
            "False\n"
          ]
        }
      ]
    },
    {
      "cell_type": "markdown",
      "source": [
        "**Combining datasets into one DataFrame for ease of training and testing**"
      ],
      "metadata": {
        "id": "rUbWqb7_u3u8"
      }
    },
    {
      "cell_type": "code",
      "source": [
        "# Create new dataframe to combine \"comments\" from both datasets\n",
        "sample_comments = pd.Series(dtype='string', name='comments')\n",
        "\n",
        "sample_comments = pd.concat([csvdf.comments, comments], ignore_index=True, axis=0)\n",
        "\n",
        "# Verify that datasets were combined correctly\n",
        "print(\"csvdf: \", csvdf.comments[0])\n",
        "print(\"jsondf: \", comments[0])\n",
        "\n",
        "i = 0\n",
        "\n",
        "print(\"sample_comments (csvdf): \", sample_comments[i])\n",
        "print(\"sample_comments (jsondf): \", sample_comments[i+csvdf.comments.shape[0]])"
      ],
      "metadata": {
        "id": "NDIogHhbu4Wf",
        "colab": {
          "base_uri": "https://localhost:8080/"
        },
        "outputId": "0e65dd50-8347-4d3c-e5c1-a9c6cf2683d5"
      },
      "execution_count": null,
      "outputs": [
        {
          "output_type": "stream",
          "name": "stdout",
          "text": [
            "csvdf:  This class is hard, but its a two-in-one gen-ed knockout, and the content is very stimulating. Unlike most classes, you have to actually participate to pass. Sections are easy and offer extra credit every week. Very funny dude. Not much more I can say.\n",
            "jsondf:  Professor Nichols is super nice and very wholesome! There is a lot of reading, but you can get by without doing very much of it. He does talk a LOT and doesn't foster as much discussion, but I think the latter might also be because people stop doing the readings a few weeks in. He does appreciate participation and gives great essay feedback!\n",
            "sample_comments (csvdf):  This class is hard, but its a two-in-one gen-ed knockout, and the content is very stimulating. Unlike most classes, you have to actually participate to pass. Sections are easy and offer extra credit every week. Very funny dude. Not much more I can say.\n",
            "sample_comments (jsondf):  Professor Nichols is super nice and very wholesome! There is a lot of reading, but you can get by without doing very much of it. He does talk a LOT and doesn't foster as much discussion, but I think the latter might also be because people stop doing the readings a few weeks in. He does appreciate participation and gives great essay feedback!\n"
          ]
        }
      ]
    },
    {
      "cell_type": "code",
      "source": [
        "# Create new dataframe to combine \"quality\" from both datasets\n",
        "sample_quality = pd.Series(dtype='float64', name='quality')\n",
        "\n",
        "sample_quality = pd.concat([csvdf.student_star,quality], ignore_index=True, axis=0)\n",
        "sample_quality = sample_quality.astype('float64')\n",
        "\n",
        "# Verify that datasets were combined correctly\n",
        "print(\"csvdf: \", csvdf.student_star[0])\n",
        "print(\"jsondf: \", quality[0])\n",
        "\n",
        "i = 0\n",
        "\n",
        "print(\"sample_quality (csvdf): \", sample_quality[i])\n",
        "print(\"sample_quality  (jsondf): \", sample_quality[i+csvdf.student_star.shape[0]])"
      ],
      "metadata": {
        "id": "DkopVr5PvBqT",
        "colab": {
          "base_uri": "https://localhost:8080/"
        },
        "outputId": "36fe5ddb-5c5f-40cd-e7e4-f7d8f0bf77e3"
      },
      "execution_count": null,
      "outputs": [
        {
          "output_type": "stream",
          "name": "stdout",
          "text": [
            "csvdf:  5.0\n",
            "jsondf:  5.0\n",
            "sample_quality (csvdf):  5.0\n",
            "sample_quality  (jsondf):  5.0\n"
          ]
        }
      ]
    },
    {
      "cell_type": "code",
      "source": [
        "# Create new dataframe to combine \"difficulty\" from both datasets\n",
        "sample_difficulty = pd.Series(dtype='float64',name='difficulty')\n",
        "\n",
        "sample_difficulty = pd.concat([csvdf.student_difficult, difficulty], ignore_index=True, axis=0)\n",
        "sample_difficulty = sample_difficulty.astype('float64')\n",
        "\n",
        "# Verify that datasets were combined correctly\n",
        "print(\"csvdf: \", csvdf.student_difficult[0])\n",
        "print(\"jsondf: \", difficulty[0])\n",
        "\n",
        "i = 0\n",
        "\n",
        "print(\"sample_difficulty (csvdf): \", sample_difficulty[i])\n",
        "print(\"sample_difficulty (jsondf): \", sample_difficulty[i+csvdf.student_difficult.shape[0]])"
      ],
      "metadata": {
        "id": "RSNhEqPjvDW3",
        "colab": {
          "base_uri": "https://localhost:8080/"
        },
        "outputId": "1ae83c59-d5a1-40ee-de48-7bc6f816741b"
      },
      "execution_count": null,
      "outputs": [
        {
          "output_type": "stream",
          "name": "stdout",
          "text": [
            "csvdf:  3.0\n",
            "jsondf:  2.0\n",
            "sample_difficulty (csvdf):  3.0\n",
            "sample_difficulty (jsondf):  2.0\n"
          ]
        }
      ]
    },
    {
      "cell_type": "markdown",
      "source": [
        "# Data Analysis\n",
        "\n",
        "In Project 1 and the introductory project, we were able to gain insight into what was occurring in our dataset by displaying the images in the dataset. For textual data, we have a more difficult time understanding our dataset and therefore must make a larger effort to do so. This effort is documented in this section.\n",
        "\n",
        "We will analyze the review text for following: word/character count. A previous version of this section included some analysis, including grammar and spelling, positive and negative words, racial bias, and gender bias. This was lost due to a technical error."
      ],
      "metadata": {
        "id": "eMOn7SQtxWfE"
      }
    },
    {
      "cell_type": "markdown",
      "source": [
        "First, we will analyze the word and character counts of the review text for professors. On first glance, these can vary greatly. Consider these two reviews that gave the professor a 5 in quality and a 3 in difficulty:\n",
        "\n",
        "```Great professor,```\n",
        "\n",
        "and\n",
        "\n",
        "```Professor Knox is Ideal. He seamlessly engages students of all intellects with the proper amount of abstraction for efficient growth and immersion in the subject matter. He knows how to explain complex concepts in a thorough yet pragmatic way. A true gem.```\n",
        "\n",
        "Despite giving the same score, the counts vary wildly. It is worth looking into whether these counts relate to the scores in any way"
      ],
      "metadata": {
        "id": "wzPyZkhg7dBo"
      }
    },
    {
      "cell_type": "code",
      "source": [
        "import matplotlib.pyplot as plt\n",
        "\n",
        "\n",
        "sample_word_counts = [len(comments.split()) for comments in sample_comments]\n",
        "sample_character_counts = [len(comments) for comments in sample_comments]\n",
        "\n",
        "quality_wc = {1.0:[], 1.5:[], 2.0:[], 2.5:[], 3.0:[], 3.5:[], 4.0:[], 4.5:[], 5.0:[]}\n",
        "quality_cc = {1.0:[], 1.5:[], 2.0:[], 2.5:[], 3.0:[], 3.5:[], 4.0:[], 4.5:[], 5.0:[]}\n",
        "\n",
        "diff_wc = {1.0:[], 2.0:[], 3.0:[], 4.0:[], 5.0:[]}\n",
        "diff_cc = {1.0:[], 2.0:[], 3.0:[], 4.0:[], 5.0:[]}\n",
        "\n",
        "for rating_idx in range(len(sample_quality)):\n",
        "  quality_wc[sample_quality[rating_idx]].append(sample_word_counts[rating_idx])\n",
        "  quality_cc[sample_quality[rating_idx]].append(sample_character_counts[rating_idx])\n",
        "  diff_wc[sample_difficulty[rating_idx]].append(sample_word_counts[rating_idx])\n",
        "  diff_cc[sample_difficulty[rating_idx]].append(sample_character_counts[rating_idx])\n",
        "\n",
        "\n",
        "plt.subplot(2,2,1)\n",
        "plt.bar(list(quality_wc.keys()), [sum(i) / len(i) for i in quality_wc.values()])\n",
        "plt.subplot(2,2,2)\n",
        "plt.bar(list(quality_cc.keys()), [sum(i) / len(i) for i in quality_cc.values()])\n",
        "\n",
        "plt.subplot(2,2,3)\n",
        "plt.bar(list(diff_wc.keys()), [sum(i) / len(i) for i in diff_wc.values()])\n",
        "plt.subplot(2,2,4)\n",
        "plt.bar(list(diff_cc.keys()), [sum(i) / len(i) for i in diff_cc.values()])\n",
        "plt.show()"
      ],
      "metadata": {
        "colab": {
          "base_uri": "https://localhost:8080/",
          "height": 430
        },
        "id": "cmNAvChfxqKI",
        "outputId": "d72721b6-0731-454c-d440-4d906733b56d"
      },
      "execution_count": null,
      "outputs": [
        {
          "output_type": "display_data",
          "data": {
            "text/plain": [
              "<Figure size 640x480 with 4 Axes>"
            ],
            "image/png": "[encoded data removed]"
          },
          "metadata": {}
        }
      ]
    },
    {
      "cell_type": "markdown",
      "source": [
        "We can see that the longest reviews are actually those that have a more middling rating. 5 star reviews actually tend to be the shortest, which isn't too surprising. More surprising is the length of 1 star reviews, we expected these to be the longest as they likely include a good amount of long rants.\n",
        "\n",
        "Difficulty shows a different story - longer reviews tend to be for more difficult classes.\n",
        "\n",
        "We should also analyze what ratings our reviews hold."
      ],
      "metadata": {
        "id": "j1b4l7bI7gD6"
      }
    },
    {
      "cell_type": "code",
      "source": [
        "plt.subplot(1,2,1)\n",
        "plt.bar(list(quality_wc.keys()), [len(i) for i in quality_wc.values()])\n",
        "plt.subplot(1,2,2)\n",
        "plt.bar(list(diff_wc.keys()), [len(i) for i in diff_wc.values()])\n",
        "plt.show()"
      ],
      "metadata": {
        "colab": {
          "base_uri": "https://localhost:8080/",
          "height": 430
        },
        "id": "SxH0RmY879SR",
        "outputId": "2bcd8cee-1f68-491f-dd93-fedd60a32679"
      },
      "execution_count": null,
      "outputs": [
        {
          "output_type": "display_data",
          "data": {
            "text/plain": [
              "<Figure size 640x480 with 2 Axes>"
            ],
            "image/png": "[encoded data removed]"
          },
          "metadata": {}
        }
      ]
    },
    {
      "cell_type": "markdown",
      "source": [
        "There are far more 5 star reviews than any other reviews in our dataset, with 1 star coming in next at less than half the reviews. This is fine, as we should need to favor 5 star reviews if they are more common.\n",
        "\n",
        "Difficulty is closer, with most professors rated being at the midpoint in difficulty."
      ],
      "metadata": {
        "id": "8r2A8uBX87Yk"
      }
    },
    {
      "cell_type": "markdown",
      "source": [
        "While work was lost in other categories and time does not permit the work to be repeated, here is a small example of the work that was done. Let's use age bias as an example: an easy way to find bias is to search through the reviews for words that could imply age bias, such as \"old\". Our neural network should end up finding features like this, but we can also do it by hand to see the effects this language has on reviews. See below:"
      ],
      "metadata": {
        "id": "WldrQDKgAEKr"
      }
    },
    {
      "cell_type": "code",
      "source": [
        "rbias_qual = {1.0:0, 1.5:0, 2.0:0, 2.5:0, 3.0:0, 3.5:0, 4.0:0, 4.5:0, 5.0:0}\n",
        "\n",
        "rbias_diff = {1.0:0, 2.0:0, 3.0:0, 4.0:0, 5.0:0}\n",
        "for rating_idx in range(len(sample_quality)):\n",
        "  if \"old\" in sample_comments[rating_idx]:\n",
        "    rbias_qual[sample_quality[rating_idx]] += 1\n",
        "    rbias_diff[sample_difficulty[rating_idx]] += 1\n",
        "\n",
        "for i in [1.0, 1.5, 2.0, 2.5, 3.0, 3.5, 4.0, 4.5, 5.0]:\n",
        "  rbias_qual[i] = rbias_qual[i] / len(quality_wc[i])\n",
        "  try:\n",
        "    rbias_diff[i] = rbias_diff[i] / len(diff_wc[i])\n",
        "  except KeyError:\n",
        "    pass\n",
        "\n",
        "plt.subplot(1,2,1)\n",
        "plt.bar(list(rbias_qual.keys()), rbias_qual.values())\n",
        "plt.subplot(1,2,2)\n",
        "plt.bar(list(rbias_diff.keys()), rbias_diff.values())\n",
        "plt.show()"
      ],
      "metadata": {
        "colab": {
          "base_uri": "https://localhost:8080/",
          "height": 430
        },
        "id": "OXZvdmPpAjaA",
        "outputId": "95848006-e2a9-4efe-a53d-d9e6772dcade"
      },
      "execution_count": null,
      "outputs": [
        {
          "output_type": "display_data",
          "data": {
            "text/plain": [
              "<Figure size 640x480 with 2 Axes>"
            ],
            "image/png": "[encoded data removed]"
          },
          "metadata": {}
        }
      ]
    },
    {
      "cell_type": "markdown",
      "source": [
        "Professors that students perceive as old (or at least are willing to call old while reviewing) receive more bad and difficult reviews than other professors. 4% of all 1  and 1.5 star reviews call their professor old at some point.\n",
        "\n",
        "Another simple example we can do is gender bias - we can simply see which pronouns are used in the review. This unfortunately leaves out non-binary professors (we cannot check for \"they\", as it could be used in other contexts) and assumes the students are not misgendering their professors, but it is the easiest way to compare if gender affects scores"
      ],
      "metadata": {
        "id": "FzT1A3qVB74Z"
      }
    },
    {
      "cell_type": "code",
      "source": [
        "mbias_qual = {1.0:0, 1.5:0, 2.0:0, 2.5:0, 3.0:0, 3.5:0, 4.0:0, 4.5:0, 5.0:0}\n",
        "mbias_diff = {1.0:0, 2.0:0, 3.0:0, 4.0:0, 5.0:0}\n",
        "wbias_qual = {1.0:0, 1.5:0, 2.0:0, 2.5:0, 3.0:0, 3.5:0, 4.0:0, 4.5:0, 5.0:0}\n",
        "wbias_diff = {1.0:0, 2.0:0, 3.0:0, 4.0:0, 5.0:0}\n",
        "for rating_idx in range(len(sample_quality)):\n",
        "  if \"she\" in sample_comments[rating_idx].lower() or \"her\" in sample_comments[rating_idx].lower():\n",
        "    wbias_qual[sample_quality[rating_idx]] += 1\n",
        "    wbias_diff[sample_difficulty[rating_idx]] += 1\n",
        "  elif \"he\" in sample_comments[rating_idx].lower() or \"his\" in sample_comments[rating_idx].lower():\n",
        "    mbias_qual[sample_quality[rating_idx]] += 1\n",
        "    mbias_diff[sample_difficulty[rating_idx]] += 1\n",
        "\n",
        "for i in [1.0, 1.5, 2.0, 2.5, 3.0, 3.5, 4.0, 4.5, 5.0]:\n",
        "  mbias_qual[i] = mbias_qual[i] / len(quality_wc[i])\n",
        "  wbias_qual[i] = wbias_qual[i] / len(quality_wc[i])\n",
        "  try:\n",
        "    mbias_diff[i] = mbias_diff[i] / len(diff_wc[i])\n",
        "    wbias_diff[i] = wbias_diff[i] / len(diff_wc[i])\n",
        "  except KeyError:\n",
        "    pass\n",
        "\n",
        "plt.subplot(2,2,1)\n",
        "plt.bar(list(mbias_qual.keys()), mbias_qual.values())\n",
        "plt.subplot(2,2,2)\n",
        "plt.bar(list(mbias_diff.keys()), mbias_diff.values())\n",
        "plt.subplot(2,2,3)\n",
        "plt.bar(list(wbias_qual.keys()), wbias_qual.values())\n",
        "plt.subplot(2,2,4)\n",
        "plt.bar(list(wbias_diff.keys()), wbias_diff.values())\n",
        "plt.show()"
      ],
      "metadata": {
        "colab": {
          "base_uri": "https://localhost:8080/",
          "height": 430
        },
        "id": "81E0o2gOFrlE",
        "outputId": "3eea4a8a-ba26-4d48-82a1-77e8862efe21"
      },
      "execution_count": null,
      "outputs": [
        {
          "output_type": "display_data",
          "data": {
            "text/plain": [
              "<Figure size 640x480 with 4 Axes>"
            ],
            "image/png": "[encoded data removed]"
          },
          "metadata": {}
        }
      ]
    },
    {
      "cell_type": "markdown",
      "source": [
        "From this, we can observe that students are more likely to give women more extreme reviews and more likely to give men more middling reviews.\n",
        "\n",
        "Past work included more terms, categories, examples, and encodings that would allow a classical model to be trained on the data. This model would have allowed for comparison between naive analysis and the RNN."
      ],
      "metadata": {
        "id": "Ze1JBZM9G0PC"
      }
    },
    {
      "cell_type": "markdown",
      "source": [
        "# **NLTK Pre-Processing**"
      ],
      "metadata": {
        "id": "uVCj2whSOMcU"
      }
    },
    {
      "cell_type": "markdown",
      "source": [
        "Next, we prepare the Natural Language Toolkit and use it to perform lemmatization. From there we split the data into training and test splits."
      ],
      "metadata": {
        "id": "eWRB_Y1zsn20"
      }
    },
    {
      "cell_type": "code",
      "source": [
        "# import the Natural Language Toolkit and download relevent data/packages\n",
        "import nltk\n",
        "nltk.download('all')\n",
        "\n",
        "from nltk.corpus import stopwords\n",
        "from nltk.tokenize import word_tokenize\n",
        "from nltk.stem import WordNetLemmatizer\n",
        "from nltk.sentiment.vader import SentimentIntensityAnalyzer"
      ],
      "metadata": {
        "id": "26r4DiBXOSvK",
        "colab": {
          "base_uri": "https://localhost:8080/"
        },
        "outputId": "46fe0108-3d73-42a7-8b4c-8c3eb3864a7e"
      },
      "execution_count": null,
      "outputs": [
        {
          "output_type": "stream",
          "name": "stderr",
          "text": [
            "[nltk_data] Downloading collection 'all'\n",
            "[nltk_data]    | \n",
            "[nltk_data]    | Downloading package abc to /root/nltk_data...\n",
            "[nltk_data]    |   Unzipping corpora/abc.zip.\n",
            "[nltk_data]    | Downloading package alpino to /root/nltk_data...\n",
            "[nltk_data]    |   Unzipping corpora/alpino.zip.\n",
            "[nltk_data]    | Downloading package averaged_perceptron_tagger to\n",
            "[nltk_data]    |     /root/nltk_data...\n",
            "[nltk_data]    |   Unzipping taggers/averaged_perceptron_tagger.zip.\n",
            "[nltk_data]    | Downloading package averaged_perceptron_tagger_ru to\n",
            "[nltk_data]    |     /root/nltk_data...\n",
            "[nltk_data]    |   Unzipping\n",
            "[nltk_data]    |       taggers/averaged_perceptron_tagger_ru.zip.\n",
            "[nltk_data]    | Downloading package basque_grammars to\n",
            "[nltk_data]    |     /root/nltk_data...\n",
            "[nltk_data]    |   Unzipping grammars/basque_grammars.zip.\n",
            "[nltk_data]    | Downloading package bcp47 to /root/nltk_data...\n",
            "[nltk_data]    | Downloading package biocreative_ppi to\n",
            "[nltk_data]    |     /root/nltk_data...\n",
            "[nltk_data]    |   Unzipping corpora/biocreative_ppi.zip.\n",
            "[nltk_data]    | Downloading package bllip_wsj_no_aux to\n",
            "[nltk_data]    |     /root/nltk_data...\n",
            "[nltk_data]    |   Unzipping models/bllip_wsj_no_aux.zip.\n",
            "[nltk_data]    | Downloading package book_grammars to\n",
            "[nltk_data]    |     /root/nltk_data...\n",
            "[nltk_data]    |   Unzipping grammars/book_grammars.zip.\n",
            "[nltk_data]    | Downloading package brown to /root/nltk_data...\n",
            "[nltk_data]    |   Unzipping corpora/brown.zip.\n",
            "[nltk_data]    | Downloading package brown_tei to /root/nltk_data...\n",
            "[nltk_data]    |   Unzipping corpora/brown_tei.zip.\n",
            "[nltk_data]    | Downloading package cess_cat to /root/nltk_data...\n",
            "[nltk_data]    |   Unzipping corpora/cess_cat.zip.\n",
            "[nltk_data]    | Downloading package cess_esp to /root/nltk_data...\n",
            "[nltk_data]    |   Unzipping corpora/cess_esp.zip.\n",
            "[nltk_data]    | Downloading package chat80 to /root/nltk_data...\n",
            "[nltk_data]    |   Unzipping corpora/chat80.zip.\n",
            "[nltk_data]    | Downloading package city_database to\n",
            "[nltk_data]    |     /root/nltk_data...\n",
            "[nltk_data]    |   Unzipping corpora/city_database.zip.\n",
            "[nltk_data]    | Downloading package cmudict to /root/nltk_data...\n",
            "[nltk_data]    |   Unzipping corpora/cmudict.zip.\n",
            "[nltk_data]    | Downloading package comparative_sentences to\n",
            "[nltk_data]    |     /root/nltk_data...\n",
            "[nltk_data]    |   Unzipping corpora/comparative_sentences.zip.\n",
            "[nltk_data]    | Downloading package comtrans to /root/nltk_data...\n",
            "[nltk_data]    | Downloading package conll2000 to /root/nltk_data...\n",
            "[nltk_data]    |   Unzipping corpora/conll2000.zip.\n",
            "[nltk_data]    | Downloading package conll2002 to /root/nltk_data...\n",
            "[nltk_data]    |   Unzipping corpora/conll2002.zip.\n",
            "[nltk_data]    | Downloading package conll2007 to /root/nltk_data...\n",
            "[nltk_data]    | Downloading package crubadan to /root/nltk_data...\n",
            "[nltk_data]    |   Unzipping corpora/crubadan.zip.\n",
            "[nltk_data]    | Downloading package dependency_treebank to\n",
            "[nltk_data]    |     /root/nltk_data...\n",
            "[nltk_data]    |   Unzipping corpora/dependency_treebank.zip.\n",
            "[nltk_data]    | Downloading package dolch to /root/nltk_data...\n",
            "[nltk_data]    |   Unzipping corpora/dolch.zip.\n",
            "[nltk_data]    | Downloading package europarl_raw to\n",
            "[nltk_data]    |     /root/nltk_data...\n",
            "[nltk_data]    |   Unzipping corpora/europarl_raw.zip.\n",
            "[nltk_data]    | Downloading package extended_omw to\n",
            "[nltk_data]    |     /root/nltk_data...\n",
            "[nltk_data]    | Downloading package floresta to /root/nltk_data...\n",
            "[nltk_data]    |   Unzipping corpora/floresta.zip.\n",
            "[nltk_data]    | Downloading package framenet_v15 to\n",
            "[nltk_data]    |     /root/nltk_data...\n",
            "[nltk_data]    |   Unzipping corpora/framenet_v15.zip.\n",
            "[nltk_data]    | Downloading package framenet_v17 to\n",
            "[nltk_data]    |     /root/nltk_data...\n",
            "[nltk_data]    |   Unzipping corpora/framenet_v17.zip.\n",
            "[nltk_data]    | Downloading package gazetteers to /root/nltk_data...\n",
            "[nltk_data]    |   Unzipping corpora/gazetteers.zip.\n",
            "[nltk_data]    | Downloading package genesis to /root/nltk_data...\n",
            "[nltk_data]    |   Unzipping corpora/genesis.zip.\n",
            "[nltk_data]    | Downloading package gutenberg to /root/nltk_data...\n",
            "[nltk_data]    |   Unzipping corpora/gutenberg.zip.\n",
            "[nltk_data]    | Downloading package ieer to /root/nltk_data...\n",
            "[nltk_data]    |   Unzipping corpora/ieer.zip.\n",
            "[nltk_data]    | Downloading package inaugural to /root/nltk_data...\n",
            "[nltk_data]    |   Unzipping corpora/inaugural.zip.\n",
            "[nltk_data]    | Downloading package indian to /root/nltk_data...\n",
            "[nltk_data]    |   Unzipping corpora/indian.zip.\n",
            "[nltk_data]    | Downloading package jeita to /root/nltk_data...\n",
            "[nltk_data]    | Downloading package kimmo to /root/nltk_data...\n",
            "[nltk_data]    |   Unzipping corpora/kimmo.zip.\n",
            "[nltk_data]    | Downloading package knbc to /root/nltk_data...\n",
            "[nltk_data]    | Downloading package large_grammars to\n",
            "[nltk_data]    |     /root/nltk_data...\n",
            "[nltk_data]    |   Unzipping grammars/large_grammars.zip.\n",
            "[nltk_data]    | Downloading package lin_thesaurus to\n",
            "[nltk_data]    |     /root/nltk_data...\n",
            "[nltk_data]    |   Unzipping corpora/lin_thesaurus.zip.\n",
            "[nltk_data]    | Downloading package mac_morpho to /root/nltk_data...\n",
            "[nltk_data]    |   Unzipping corpora/mac_morpho.zip.\n",
            "[nltk_data]    | Downloading package machado to /root/nltk_data...\n",
            "[nltk_data]    | Downloading package masc_tagged to /root/nltk_data...\n",
            "[nltk_data]    | Downloading package maxent_ne_chunker to\n",
            "[nltk_data]    |     /root/nltk_data...\n",
            "[nltk_data]    |   Unzipping chunkers/maxent_ne_chunker.zip.\n",
            "[nltk_data]    | Downloading package maxent_treebank_pos_tagger to\n",
            "[nltk_data]    |     /root/nltk_data...\n",
            "[nltk_data]    |   Unzipping taggers/maxent_treebank_pos_tagger.zip.\n",
            "[nltk_data]    | Downloading package moses_sample to\n",
            "[nltk_data]    |     /root/nltk_data...\n",
            "[nltk_data]    |   Unzipping models/moses_sample.zip.\n",
            "[nltk_data]    | Downloading package movie_reviews to\n",
            "[nltk_data]    |     /root/nltk_data...\n",
            "[nltk_data]    |   Unzipping corpora/movie_reviews.zip.\n",
            "[nltk_data]    | Downloading package mte_teip5 to /root/nltk_data...\n",
            "[nltk_data]    |   Unzipping corpora/mte_teip5.zip.\n",
            "[nltk_data]    | Downloading package mwa_ppdb to /root/nltk_data...\n",
            "[nltk_data]    |   Unzipping misc/mwa_ppdb.zip.\n",
            "[nltk_data]    | Downloading package names to /root/nltk_data...\n",
            "[nltk_data]    |   Unzipping corpora/names.zip.\n",
            "[nltk_data]    | Downloading package nombank.1.0 to /root/nltk_data...\n",
            "[nltk_data]    | Downloading package nonbreaking_prefixes to\n",
            "[nltk_data]    |     /root/nltk_data...\n",
            "[nltk_data]    |   Unzipping corpora/nonbreaking_prefixes.zip.\n",
            "[nltk_data]    | Downloading package nps_chat to /root/nltk_data...\n",
            "[nltk_data]    |   Unzipping corpora/nps_chat.zip.\n",
            "[nltk_data]    | Downloading package omw to /root/nltk_data...\n",
            "[nltk_data]    | Downloading package omw-1.4 to /root/nltk_data...\n",
            "[nltk_data]    | Downloading package opinion_lexicon to\n",
            "[nltk_data]    |     /root/nltk_data...\n",
            "[nltk_data]    |   Unzipping corpora/opinion_lexicon.zip.\n",
            "[nltk_data]    | Downloading package panlex_swadesh to\n",
            "[nltk_data]    |     /root/nltk_data...\n",
            "[nltk_data]    | Downloading package paradigms to /root/nltk_data...\n",
            "[nltk_data]    |   Unzipping corpora/paradigms.zip.\n",
            "[nltk_data]    | Downloading package pe08 to /root/nltk_data...\n",
            "[nltk_data]    |   Unzipping corpora/pe08.zip.\n",
            "[nltk_data]    | Downloading package perluniprops to\n",
            "[nltk_data]    |     /root/nltk_data...\n",
            "[nltk_data]    |   Unzipping misc/perluniprops.zip.\n",
            "[nltk_data]    | Downloading package pil to /root/nltk_data...\n",
            "[nltk_data]    |   Unzipping corpora/pil.zip.\n",
            "[nltk_data]    | Downloading package pl196x to /root/nltk_data...\n",
            "[nltk_data]    |   Unzipping corpora/pl196x.zip.\n",
            "[nltk_data]    | Downloading package porter_test to /root/nltk_data...\n",
            "[nltk_data]    |   Unzipping stemmers/porter_test.zip.\n",
            "[nltk_data]    | Downloading package ppattach to /root/nltk_data...\n",
            "[nltk_data]    |   Unzipping corpora/ppattach.zip.\n",
            "[nltk_data]    | Downloading package problem_reports to\n",
            "[nltk_data]    |     /root/nltk_data...\n",
            "[nltk_data]    |   Unzipping corpora/problem_reports.zip.\n",
            "[nltk_data]    | Downloading package product_reviews_1 to\n",
            "[nltk_data]    |     /root/nltk_data...\n",
            "[nltk_data]    |   Unzipping corpora/product_reviews_1.zip.\n",
            "[nltk_data]    | Downloading package product_reviews_2 to\n",
            "[nltk_data]    |     /root/nltk_data...\n",
            "[nltk_data]    |   Unzipping corpora/product_reviews_2.zip.\n",
            "[nltk_data]    | Downloading package propbank to /root/nltk_data...\n",
            "[nltk_data]    | Downloading package pros_cons to /root/nltk_data...\n",
            "[nltk_data]    |   Unzipping corpora/pros_cons.zip.\n",
            "[nltk_data]    | Downloading package ptb to /root/nltk_data...\n",
            "[nltk_data]    |   Unzipping corpora/ptb.zip.\n",
            "[nltk_data]    | Downloading package punkt to /root/nltk_data...\n",
            "[nltk_data]    |   Unzipping tokenizers/punkt.zip.\n",
            "[nltk_data]    | Downloading package qc to /root/nltk_data...\n",
            "[nltk_data]    |   Unzipping corpora/qc.zip.\n",
            "[nltk_data]    | Downloading package reuters to /root/nltk_data...\n",
            "[nltk_data]    | Downloading package rslp to /root/nltk_data...\n",
            "[nltk_data]    |   Unzipping stemmers/rslp.zip.\n",
            "[nltk_data]    | Downloading package rte to /root/nltk_data...\n",
            "[nltk_data]    |   Unzipping corpora/rte.zip.\n",
            "[nltk_data]    | Downloading package sample_grammars to\n",
            "[nltk_data]    |     /root/nltk_data...\n",
            "[nltk_data]    |   Unzipping grammars/sample_grammars.zip.\n",
            "[nltk_data]    | Downloading package semcor to /root/nltk_data...\n",
            "[nltk_data]    | Downloading package senseval to /root/nltk_data...\n",
            "[nltk_data]    |   Unzipping corpora/senseval.zip.\n",
            "[nltk_data]    | Downloading package sentence_polarity to\n",
            "[nltk_data]    |     /root/nltk_data...\n",
            "[nltk_data]    |   Unzipping corpora/sentence_polarity.zip.\n",
            "[nltk_data]    | Downloading package sentiwordnet to\n",
            "[nltk_data]    |     /root/nltk_data...\n",
            "[nltk_data]    |   Unzipping corpora/sentiwordnet.zip.\n",
            "[nltk_data]    | Downloading package shakespeare to /root/nltk_data...\n",
            "[nltk_data]    |   Unzipping corpora/shakespeare.zip.\n",
            "[nltk_data]    | Downloading package sinica_treebank to\n",
            "[nltk_data]    |     /root/nltk_data...\n",
            "[nltk_data]    |   Unzipping corpora/sinica_treebank.zip.\n",
            "[nltk_data]    | Downloading package smultron to /root/nltk_data...\n",
            "[nltk_data]    |   Unzipping corpora/smultron.zip.\n",
            "[nltk_data]    | Downloading package snowball_data to\n",
            "[nltk_data]    |     /root/nltk_data...\n",
            "[nltk_data]    | Downloading package spanish_grammars to\n",
            "[nltk_data]    |     /root/nltk_data...\n",
            "[nltk_data]    |   Unzipping grammars/spanish_grammars.zip.\n",
            "[nltk_data]    | Downloading package state_union to /root/nltk_data...\n",
            "[nltk_data]    |   Unzipping corpora/state_union.zip.\n",
            "[nltk_data]    | Downloading package stopwords to /root/nltk_data...\n",
            "[nltk_data]    |   Unzipping corpora/stopwords.zip.\n",
            "[nltk_data]    | Downloading package subjectivity to\n",
            "[nltk_data]    |     /root/nltk_data...\n",
            "[nltk_data]    |   Unzipping corpora/subjectivity.zip.\n",
            "[nltk_data]    | Downloading package swadesh to /root/nltk_data...\n",
            "[nltk_data]    |   Unzipping corpora/swadesh.zip.\n",
            "[nltk_data]    | Downloading package switchboard to /root/nltk_data...\n",
            "[nltk_data]    |   Unzipping corpora/switchboard.zip.\n",
            "[nltk_data]    | Downloading package tagsets to /root/nltk_data...\n",
            "[nltk_data]    |   Unzipping help/tagsets.zip.\n",
            "[nltk_data]    | Downloading package timit to /root/nltk_data...\n",
            "[nltk_data]    |   Unzipping corpora/timit.zip.\n",
            "[nltk_data]    | Downloading package toolbox to /root/nltk_data...\n",
            "[nltk_data]    |   Unzipping corpora/toolbox.zip.\n",
            "[nltk_data]    | Downloading package treebank to /root/nltk_data...\n",
            "[nltk_data]    |   Unzipping corpora/treebank.zip.\n",
            "[nltk_data]    | Downloading package twitter_samples to\n",
            "[nltk_data]    |     /root/nltk_data...\n",
            "[nltk_data]    |   Unzipping corpora/twitter_samples.zip.\n",
            "[nltk_data]    | Downloading package udhr to /root/nltk_data...\n",
            "[nltk_data]    |   Unzipping corpora/udhr.zip.\n",
            "[nltk_data]    | Downloading package udhr2 to /root/nltk_data...\n",
            "[nltk_data]    |   Unzipping corpora/udhr2.zip.\n",
            "[nltk_data]    | Downloading package unicode_samples to\n",
            "[nltk_data]    |     /root/nltk_data...\n",
            "[nltk_data]    |   Unzipping corpora/unicode_samples.zip.\n",
            "[nltk_data]    | Downloading package universal_tagset to\n",
            "[nltk_data]    |     /root/nltk_data...\n",
            "[nltk_data]    |   Unzipping taggers/universal_tagset.zip.\n",
            "[nltk_data]    | Downloading package universal_treebanks_v20 to\n",
            "[nltk_data]    |     /root/nltk_data...\n",
            "[nltk_data]    | Downloading package vader_lexicon to\n",
            "[nltk_data]    |     /root/nltk_data...\n",
            "[nltk_data]    | Downloading package verbnet to /root/nltk_data...\n",
            "[nltk_data]    |   Unzipping corpora/verbnet.zip.\n",
            "[nltk_data]    | Downloading package verbnet3 to /root/nltk_data...\n",
            "[nltk_data]    |   Unzipping corpora/verbnet3.zip.\n",
            "[nltk_data]    | Downloading package webtext to /root/nltk_data...\n",
            "[nltk_data]    |   Unzipping corpora/webtext.zip.\n",
            "[nltk_data]    | Downloading package wmt15_eval to /root/nltk_data...\n",
            "[nltk_data]    |   Unzipping models/wmt15_eval.zip.\n",
            "[nltk_data]    | Downloading package word2vec_sample to\n",
            "[nltk_data]    |     /root/nltk_data...\n",
            "[nltk_data]    |   Unzipping models/word2vec_sample.zip.\n",
            "[nltk_data]    | Downloading package wordnet to /root/nltk_data...\n",
            "[nltk_data]    | Downloading package wordnet2021 to /root/nltk_data...\n",
            "[nltk_data]    | Downloading package wordnet2022 to /root/nltk_data...\n",
            "[nltk_data]    |   Unzipping corpora/wordnet2022.zip.\n",
            "[nltk_data]    | Downloading package wordnet31 to /root/nltk_data...\n",
            "[nltk_data]    | Downloading package wordnet_ic to /root/nltk_data...\n",
            "[nltk_data]    |   Unzipping corpora/wordnet_ic.zip.\n",
            "[nltk_data]    | Downloading package words to /root/nltk_data...\n",
            "[nltk_data]    |   Unzipping corpora/words.zip.\n",
            "[nltk_data]    | Downloading package ycoe to /root/nltk_data...\n",
            "[nltk_data]    |   Unzipping corpora/ycoe.zip.\n",
            "[nltk_data]    | \n",
            "[nltk_data]  Done downloading collection all\n"
          ]
        }
      ]
    },
    {
      "cell_type": "code",
      "source": [
        "# Pre-processing comments using NLTK\n",
        "\n",
        "import string\n",
        "stop_words = stopwords.words('english')\n",
        "\n",
        "def nlp_preprocessing(comment):\n",
        "\n",
        "  # Remove punctuation\n",
        "  new_comment = comment.translate(str.maketrans('', '', string.punctuation))\n",
        "\n",
        "  # Convert to lowercase and tokenize the comment\n",
        "  tokens = word_tokenize(new_comment.lower())\n",
        "\n",
        "  # Remove stop words from the comment\n",
        "  cleaned_tokens = [token for token in tokens if token not in stop_words]\n",
        "\n",
        "  # Lemmatization\n",
        "  lemmatizer = WordNetLemmatizer()\n",
        "  lemmatized_tokens = [WordNetLemmatizer().lemmatize(token) for token in cleaned_tokens]\n",
        "\n",
        "  # Join the lemmatized_tokens back into a string and return new comment\n",
        "  processed_comment = ' '.join(lemmatized_tokens)\n",
        "\n",
        "  return processed_comment"
      ],
      "metadata": {
        "id": "vKrYBeWuOjZa"
      },
      "execution_count": null,
      "outputs": []
    },
    {
      "cell_type": "code",
      "source": [
        "# apply nlp_preprocessing function to entire comment series\n",
        "sample_comments = sample_comments.apply(nlp_preprocessing)"
      ],
      "metadata": {
        "id": "7sPuX-pZOzXD"
      },
      "execution_count": null,
      "outputs": []
    },
    {
      "cell_type": "code",
      "source": [
        "# verifying nlp_preprocessing with a few examples\n",
        "print(sample_comments[0])\n",
        "print(sample_comments[csvdf.comments.shape[0]])\n",
        "print(sample_comments[sample_comments.shape[0]-1])"
      ],
      "metadata": {
        "id": "mWvu3mHeO18X",
        "colab": {
          "base_uri": "https://localhost:8080/"
        },
        "outputId": "544d1c95-5488-4ac9-d02a-32efa917d702"
      },
      "execution_count": null,
      "outputs": [
        {
          "output_type": "stream",
          "name": "stdout",
          "text": [
            "class hard twoinone gened knockout content stimulating unlike class actually participate pas section easy offer extra credit every week funny dude much say\n",
            "professor nichols super nice wholesome lot reading get without much talk lot doesnt foster much discussion think latter might also people stop reading week appreciate participation give great essay feedback\n",
            "first econ class got exactly expected lecture heavy intro course solid lecture crack class super easy fall behind miss class two textbook followed extent lecture note super helpful flexible due datesgives extension\n"
          ]
        }
      ]
    },
    {
      "cell_type": "code",
      "source": [
        "import numpy as np\n",
        "\n",
        "print(type(sample_comments))\n",
        "print(type(sample_quality))\n",
        "print(type(sample_difficulty))\n",
        "\n",
        "sample_comments = np.asarray(sample_comments)\n",
        "sample_quality = np.asarray(sample_quality)\n",
        "sample_difficulty = np.asarray(sample_difficulty)\n",
        "\n",
        "print(type(sample_comments))\n",
        "print(type(sample_quality))\n",
        "print(type(sample_difficulty))"
      ],
      "metadata": {
        "id": "H-oqJAy0jXDg",
        "colab": {
          "base_uri": "https://localhost:8080/"
        },
        "outputId": "a99ad407-2232-4f72-c569-30d93530dd64"
      },
      "execution_count": null,
      "outputs": [
        {
          "output_type": "stream",
          "name": "stdout",
          "text": [
            "<class 'pandas.core.series.Series'>\n",
            "<class 'pandas.core.series.Series'>\n",
            "<class 'pandas.core.series.Series'>\n",
            "<class 'numpy.ndarray'>\n",
            "<class 'numpy.ndarray'>\n",
            "<class 'numpy.ndarray'>\n"
          ]
        }
      ]
    },
    {
      "cell_type": "markdown",
      "source": [
        "**Divide Training and Testing batches**"
      ],
      "metadata": {
        "id": "NepXiU8gQ_Uw"
      }
    },
    {
      "cell_type": "code",
      "source": [
        "from sklearn.model_selection import train_test_split\n",
        "\n",
        "X_train, X_test, y1_train, y1_test, y2_train, y2_test = train_test_split(sample_comments, sample_quality, sample_difficulty, test_size=0.2)"
      ],
      "metadata": {
        "id": "Vg-r7aKkQ_Bf"
      },
      "execution_count": null,
      "outputs": []
    },
    {
      "cell_type": "code",
      "source": [
        "# Verifying training sets against original data - csvdf\n",
        "print(\"Comment: \", X_train[0])\n",
        "print(\"Quality: \", y1_train[0])\n",
        "print(\"Difficulty: \", y2_train[0])"
      ],
      "metadata": {
        "id": "0Q75IW0DRLdX",
        "colab": {
          "base_uri": "https://localhost:8080/"
        },
        "outputId": "dedb6f5f-82cb-40fa-c64e-18bc0cdec206"
      },
      "execution_count": null,
      "outputs": [
        {
          "output_type": "stream",
          "name": "stdout",
          "text": [
            "Comment:  pro1knowledgeable aspect u history 2makes lecture interesting 3usually friendly con1clearly liberali cant even tell separating fact opinion2tough classhigh dependency note 3lots reading 4having background history nearly necessary 5disorganized manner thought speech writing\n",
            "Quality:  3.0\n",
            "Difficulty:  4.0\n"
          ]
        }
      ]
    },
    {
      "cell_type": "code",
      "source": [
        "# Original dataset for comparison - csvdf\n",
        "print(csvdf.loc[0])"
      ],
      "metadata": {
        "id": "GsDCrlspR2xX",
        "colab": {
          "base_uri": "https://localhost:8080/"
        },
        "outputId": "6b091448-d1e2-4e29-dc9a-c9b4e2363882"
      },
      "execution_count": null,
      "outputs": [
        {
          "output_type": "stream",
          "name": "stdout",
          "text": [
            "student_star                                                       5.0\n",
            "student_difficult                                                  3.0\n",
            "comments             This class is hard, but its a two-in-one gen-e...\n",
            "Name: 0, dtype: object\n"
          ]
        }
      ]
    },
    {
      "cell_type": "code",
      "source": [
        "print(type(X_train))\n",
        "print(type(y1_train))\n",
        "print(type(y2_train))"
      ],
      "metadata": {
        "id": "-OL0xUn_j_ea",
        "colab": {
          "base_uri": "https://localhost:8080/"
        },
        "outputId": "beede752-0203-4fa0-b955-f0ea881beb4e"
      },
      "execution_count": null,
      "outputs": [
        {
          "output_type": "stream",
          "name": "stdout",
          "text": [
            "<class 'numpy.ndarray'>\n",
            "<class 'numpy.ndarray'>\n",
            "<class 'numpy.ndarray'>\n"
          ]
        }
      ]
    },
    {
      "cell_type": "markdown",
      "source": [
        "# **Word Embedding**\n",
        "\n",
        "\n"
      ],
      "metadata": {
        "id": "xqJ6oRfcD7_5"
      }
    },
    {
      "cell_type": "markdown",
      "source": [
        "In this section, we load the pre-trained GLoVe word embeddings and apply then to the dataset."
      ],
      "metadata": {
        "id": "j-Trf_DHtA7y"
      }
    },
    {
      "cell_type": "markdown",
      "source": [
        "Import dependencies"
      ],
      "metadata": {
        "id": "bhTZEdWQENCM"
      }
    },
    {
      "cell_type": "code",
      "source": [
        " import os\n",
        " import urllib.request"
      ],
      "metadata": {
        "id": "c5GH8hVdELns"
      },
      "execution_count": null,
      "outputs": []
    },
    {
      "cell_type": "markdown",
      "source": [
        " Directly access the files from the URL"
      ],
      "metadata": {
        "id": "SYxZC1fGEbKg"
      }
    },
    {
      "cell_type": "code",
      "source": [
        "urllib.request.urlretrieve('https://nlp.stanford.edu/data/glove.6B.zip','glove.6B.zip')"
      ],
      "metadata": {
        "id": "5yzLKfrZEh3m",
        "colab": {
          "base_uri": "https://localhost:8080/"
        },
        "outputId": "6c7bffd8-9be3-4283-e670-d9bcca7f6dfb"
      },
      "execution_count": null,
      "outputs": [
        {
          "output_type": "execute_result",
          "data": {
            "text/plain": [
              "('glove.6B.zip', <http.client.HTTPMessage at 0x7fc527e42d40>)"
            ]
          },
          "metadata": {},
          "execution_count": 24
        }
      ]
    },
    {
      "cell_type": "markdown",
      "source": [
        "Unzipping the file"
      ],
      "metadata": {
        "id": "6ckT-SpXE1BA"
      }
    },
    {
      "cell_type": "code",
      "source": [
        "!unzip \"/content/glove.6B.zip\" -d \"/content/\""
      ],
      "metadata": {
        "id": "HQOd0MMpEmLZ",
        "colab": {
          "base_uri": "https://localhost:8080/"
        },
        "outputId": "03d2e77e-4548-45aa-ff67-02f468705866"
      },
      "execution_count": null,
      "outputs": [
        {
          "output_type": "stream",
          "name": "stdout",
          "text": [
            "Archive:  /content/glove.6B.zip\n",
            "  inflating: /content/glove.6B.50d.txt  \n",
            "  inflating: /content/glove.6B.100d.txt  \n",
            "  inflating: /content/glove.6B.200d.txt  \n",
            "  inflating: /content/glove.6B.300d.txt  \n"
          ]
        }
      ]
    },
    {
      "cell_type": "markdown",
      "source": [
        "More dependencies"
      ],
      "metadata": {
        "id": "2GqAdNH9FCox"
      }
    },
    {
      "cell_type": "code",
      "source": [
        "from scipy import spatial\n",
        "from sklearn.manifold import TSNE\n",
        "import numpy as np"
      ],
      "metadata": {
        "id": "2lezqmOHFRt3"
      },
      "execution_count": null,
      "outputs": []
    },
    {
      "cell_type": "markdown",
      "source": [
        "Loading Word Embeddings from a GloVe File"
      ],
      "metadata": {
        "id": "Wl_bCdXoFTF1"
      }
    },
    {
      "cell_type": "code",
      "source": [
        "# Initialize an empty dictionary to hold the embeddings\n",
        "\n",
        "emmbedding_dict = {}\n",
        "# Open the file containing the word embeddings\n",
        "\n",
        "with open('/content/glove.6B.200d.txt','r') as f:\n",
        "\n",
        "  for line in f:\n",
        "    values = line.split()\n",
        "    word = values[0]\n",
        "    vector = np.asarray(values[1:],'float32')\n",
        "\n",
        "#Add the word and its corresponding vector to the dictionary\n",
        "    emmbedding_dict[word]=vector"
      ],
      "metadata": {
        "id": "9UBC-3YiGmR-"
      },
      "execution_count": null,
      "outputs": []
    },
    {
      "cell_type": "markdown",
      "source": [
        " Accessing the embedding vector for the word 'good'\n",
        ""
      ],
      "metadata": {
        "id": "13Vokk3sGzTm"
      }
    },
    {
      "cell_type": "code",
      "source": [
        "emmbedding_dict['good']"
      ],
      "metadata": {
        "id": "ubs8k256G032",
        "colab": {
          "base_uri": "https://localhost:8080/"
        },
        "outputId": "c3823d80-2cfe-4338-e5e8-eb03048032ab"
      },
      "execution_count": null,
      "outputs": [
        {
          "output_type": "execute_result",
          "data": {
            "text/plain": [
              "array([ 5.1507e-01,  3.5596e-01,  1.5710e-01, -7.4075e-02, -2.5446e-01,\n",
              "       -1.1357e-01, -4.9943e-01, -1.2626e-01,  3.8851e-01,  5.4204e-01,\n",
              "        1.0479e-01,  4.4099e-01, -6.5490e-02,  5.8463e-02,  4.1150e-01,\n",
              "        5.6709e-01, -1.1869e-01,  2.5107e-01,  2.5640e-01, -2.1615e-01,\n",
              "        6.4170e-01,  2.7875e+00,  1.2036e-01,  4.9481e-02,  2.4843e-01,\n",
              "       -6.7390e-01,  1.1957e-03,  3.5802e-01, -1.7588e-01, -3.9135e-01,\n",
              "       -1.4093e-02,  2.3610e-01, -4.3184e-01, -2.7045e-02,  2.2829e-02,\n",
              "       -2.8283e-01, -5.0008e-01, -1.1275e-01, -4.5002e-01,  3.3634e-01,\n",
              "       -5.7722e-03,  3.3005e-01, -2.4671e-01,  1.7358e-01, -3.5508e-01,\n",
              "       -3.9378e-02,  4.8834e-01,  1.4180e-01, -1.7579e-01,  3.1760e-01,\n",
              "       -1.5194e-01, -1.1244e-01, -7.0078e-02,  7.4877e-01, -6.2074e-02,\n",
              "       -1.7296e-01,  1.5001e-01, -5.8035e-02,  1.9471e-01, -2.9521e-01,\n",
              "        5.0281e-01, -3.3074e-01, -5.4041e-01,  6.4659e-02,  4.1465e-02,\n",
              "        4.9930e-01,  8.0902e-02,  4.7806e-01,  5.8307e-01,  4.0874e-01,\n",
              "        6.8926e-01, -1.7099e-01, -1.8371e-01,  2.0223e-01, -1.6941e-01,\n",
              "        6.0234e-02, -5.5287e-01, -4.5837e-01, -4.9883e-01,  4.8763e-02,\n",
              "       -3.4175e-02,  9.6349e-02, -3.6416e-01,  2.8792e-01, -9.4959e-02,\n",
              "       -3.2941e-02,  2.2893e-01, -2.1029e-01,  5.9527e-01, -1.1885e+00,\n",
              "        4.9904e-01, -1.7831e-01,  2.3057e-01,  2.1432e-01, -1.1995e-01,\n",
              "       -2.7463e-01,  2.3447e-01,  3.0226e-04,  2.2574e-01,  2.1555e-02,\n",
              "        1.9446e-01,  1.9949e-01, -1.2335e-02,  3.7444e-01,  1.8190e-01,\n",
              "        7.4717e-02, -6.8229e-02,  1.2678e+00, -8.0215e-01, -2.6504e-01,\n",
              "       -1.6950e-01, -1.2885e-01, -2.0571e-01,  2.7484e-03, -5.3354e-01,\n",
              "       -2.1775e-01,  2.5734e-02, -5.5903e-01, -5.1352e-01, -4.2240e-01,\n",
              "        5.9187e-01, -1.4522e-01,  3.3200e-01, -1.2381e-01, -2.4094e-01,\n",
              "        1.5827e-01,  2.4885e-02, -9.3409e-02,  4.4351e-01, -2.0636e-01,\n",
              "       -1.1982e-01,  1.4570e-01,  1.5496e-01,  9.8869e-02, -1.5562e-01,\n",
              "       -3.3651e-01, -1.7413e-01,  1.5880e-01,  1.4450e-01, -6.0348e-01,\n",
              "       -1.9199e-01, -2.7604e-01,  2.6225e-02, -2.6559e-01,  1.7026e+00,\n",
              "        4.7807e-01,  3.8597e-01, -9.1549e-01,  2.6385e-01,  6.1281e-01,\n",
              "        2.6567e-01,  3.6172e-01, -1.1723e-02,  1.5029e-01,  2.0089e-01,\n",
              "       -4.4063e-01, -4.3547e-01, -2.9687e-02,  1.8610e-01, -8.1141e-02,\n",
              "        3.6631e-01,  3.6358e-01,  3.5067e-01, -2.1211e-01,  1.0592e-01,\n",
              "       -1.4738e-01, -1.0271e-01,  4.6204e-01, -5.4369e-01,  2.6473e-02,\n",
              "       -3.4436e-01, -2.8099e-01,  2.7903e-01,  2.2506e-01,  1.3079e-01,\n",
              "       -1.2761e-01, -7.4556e-01, -1.4482e-01, -1.1780e-01,  4.6916e-01,\n",
              "        1.0226e+00, -1.2157e-01, -3.8652e-01,  2.0441e-01, -3.8827e-01,\n",
              "       -1.8671e-01,  3.6354e-01, -3.3577e-01, -3.9282e-02,  3.3316e-01,\n",
              "       -4.8109e-02, -3.8057e-01, -3.5258e-01, -6.2655e-03,  2.7227e-01,\n",
              "       -1.6222e-01, -3.1979e-01,  1.4338e-01, -7.2859e-02,  1.7815e-01],\n",
              "      dtype=float32)"
            ]
          },
          "metadata": {},
          "execution_count": 28
        }
      ]
    },
    {
      "cell_type": "markdown",
      "source": [
        "Checking data tpye of sample comments"
      ],
      "metadata": {
        "id": "mC-KTEZUycsP"
      }
    },
    {
      "cell_type": "code",
      "source": [
        "print(sample_comments.dtype)"
      ],
      "metadata": {
        "id": "UmJlMODITFnw",
        "colab": {
          "base_uri": "https://localhost:8080/"
        },
        "outputId": "d0914c61-8b5f-4ae7-bc46-63e050a5a47d"
      },
      "execution_count": null,
      "outputs": [
        {
          "output_type": "stream",
          "name": "stdout",
          "text": [
            "object\n"
          ]
        }
      ]
    },
    {
      "cell_type": "markdown",
      "source": [
        "Find the maximum number of words"
      ],
      "metadata": {
        "id": "4DXEf5Kiylpc"
      }
    },
    {
      "cell_type": "code",
      "source": [
        "# split each sentence in the 'my_column' column into a list of words and find the maximum length\n",
        "df1=pd.DataFrame(sample_comments, columns=['Comments'])\n",
        "max_words = df1['Comments'].str.split().apply(len).max()\n",
        "\n",
        "# print the maximum number of words\n",
        "print('Maximum number of words:', max_words)"
      ],
      "metadata": {
        "id": "6R5UlxpLSZWz",
        "colab": {
          "base_uri": "https://localhost:8080/"
        },
        "outputId": "859b44e1-0657-4414-c8f6-030c7f528e44"
      },
      "execution_count": null,
      "outputs": [
        {
          "output_type": "stream",
          "name": "stdout",
          "text": [
            "Maximum number of words: 65\n"
          ]
        }
      ]
    },
    {
      "cell_type": "code",
      "source": [
        "print(sample_comments)"
      ],
      "metadata": {
        "id": "6o48Oti4Sdpp",
        "colab": {
          "base_uri": "https://localhost:8080/"
        },
        "outputId": "f98c0a8f-37e9-43d9-be8d-15e6568cecbe"
      },
      "execution_count": null,
      "outputs": [
        {
          "output_type": "stream",
          "name": "stdout",
          "text": [
            "['class hard twoinone gened knockout content stimulating unlike class actually participate pas section easy offer extra credit every week funny dude much say'\n",
            " 'definitely going choose prof looney class interesting class easy bring note exam dont need remember lot lot bonus point available observatory session awesome'\n",
            " 'overall enjoyed class assignment straightforward interesting didnt enjoy video project felt like one group cared enough help'\n",
            " ...\n",
            " 'first college bio class different thought would lectured lot also made u partner project felt waste time 3 midterm mc short answer article read hw 1 final 15 inclass quiz show everyday short assignment nice woman'\n",
            " 'henri cole amazing poet also great professor class week 3 hour time fly discus poetry hear opinion life writing ability also drastically improved taking class highly recommend'\n",
            " 'first econ class got exactly expected lecture heavy intro course solid lecture crack class super easy fall behind miss class two textbook followed extent lecture note super helpful flexible due datesgives extension']\n"
          ]
        }
      ]
    },
    {
      "cell_type": "markdown",
      "source": [
        "More dependencies"
      ],
      "metadata": {
        "id": "cQOgB3pEyyr9"
      }
    },
    {
      "cell_type": "code",
      "source": [
        "import tensorflow as tf\n",
        "from tensorflow import keras\n",
        "from tensorflow import keras\n",
        "from tensorflow.keras.preprocessing import text\n",
        "from tensorflow.keras.preprocessing import sequence\n",
        "from tensorflow.keras.preprocessing.text import Tokenizer\n",
        "from tensorflow.keras.preprocessing.sequence import pad_sequences\n",
        "import numpy as np"
      ],
      "metadata": {
        "id": "JSoNVpq-SgPI"
      },
      "execution_count": null,
      "outputs": []
    },
    {
      "cell_type": "code",
      "source": [
        "from tqdm import tqdm"
      ],
      "metadata": {
        "id": "54XgT9_RSjPo"
      },
      "execution_count": null,
      "outputs": []
    },
    {
      "cell_type": "markdown",
      "source": [
        "Padding and converting into matrix\n"
      ],
      "metadata": {
        "id": "dOE7HkVMy9Ht"
      }
    },
    {
      "cell_type": "code",
      "source": [
        "tokenizer_obj=Tokenizer()\n",
        "tokenizer_obj.fit_on_texts(sample_comments)\n",
        "sequences=tokenizer_obj.texts_to_sequences(sample_comments)\n",
        "\n",
        "emb_pad=pad_sequences(sequences,maxlen=max_words,truncating='post',padding='post')\n",
        "word_index=tokenizer_obj.word_index\n",
        "print('Number of unique words:',len(word_index))\n",
        "\n",
        "emedding_dim=200\n",
        "num_words=len(word_index)+1\n",
        "embedding_matrix=np.zeros((num_words,emedding_dim))"
      ],
      "metadata": {
        "id": "-dMRFjCVSmSc",
        "colab": {
          "base_uri": "https://localhost:8080/"
        },
        "outputId": "684d5454-c875-48d6-85da-8cdc8d70a267"
      },
      "execution_count": null,
      "outputs": [
        {
          "output_type": "stream",
          "name": "stdout",
          "text": [
            "Number of unique words: 18648\n"
          ]
        }
      ]
    },
    {
      "cell_type": "code",
      "source": [
        "print(type(sample_comments))\n",
        "print(type(sample_quality))\n",
        "print(type(sample_difficulty))"
      ],
      "metadata": {
        "id": "W6XIX09uSnAx",
        "colab": {
          "base_uri": "https://localhost:8080/"
        },
        "outputId": "860357fe-44b9-4646-bbe1-e30fe0bf6520"
      },
      "execution_count": null,
      "outputs": [
        {
          "output_type": "stream",
          "name": "stdout",
          "text": [
            "<class 'numpy.ndarray'>\n",
            "<class 'numpy.ndarray'>\n",
            "<class 'numpy.ndarray'>\n"
          ]
        }
      ]
    },
    {
      "cell_type": "code",
      "source": [
        "print(emb_pad.dtype)"
      ],
      "metadata": {
        "id": "uWvLIs7iVhA4",
        "colab": {
          "base_uri": "https://localhost:8080/"
        },
        "outputId": "80658d4c-ec51-4d9f-99b7-ea7776ed468e"
      },
      "execution_count": null,
      "outputs": [
        {
          "output_type": "stream",
          "name": "stdout",
          "text": [
            "int32\n"
          ]
        }
      ]
    },
    {
      "cell_type": "markdown",
      "source": [
        "Converting data tpyes from object to float32 for training model"
      ],
      "metadata": {
        "id": "QF3vQC8jzEVG"
      }
    },
    {
      "cell_type": "code",
      "source": [
        "# Since the data types of comment, quality and difficulty are not the same we will convert them to float32\n",
        "emb_comments=np.array(emb_pad,dtype=np.float32)\n",
        "emb_quality=np.array(sample_quality,dtype=np.float32)\n",
        "emb_difficulty=np.array(sample_difficulty,dtype=np.float32)"
      ],
      "metadata": {
        "id": "F5bFVfXKTPBN"
      },
      "execution_count": null,
      "outputs": []
    },
    {
      "cell_type": "code",
      "source": [
        "print(emb_comments.dtype)\n",
        "print(emb_quality.dtype)\n",
        "print(emb_difficulty.dtype)"
      ],
      "metadata": {
        "id": "HgzuMwxVVtey",
        "colab": {
          "base_uri": "https://localhost:8080/"
        },
        "outputId": "f401e29e-0442-4ecf-b5fb-58fd11c48d40"
      },
      "execution_count": null,
      "outputs": [
        {
          "output_type": "stream",
          "name": "stdout",
          "text": [
            "float32\n",
            "float32\n",
            "float32\n"
          ]
        }
      ]
    },
    {
      "cell_type": "code",
      "source": [
        "embedding_matrix.shape"
      ],
      "metadata": {
        "id": "70kC4gQRSuhB",
        "colab": {
          "base_uri": "https://localhost:8080/"
        },
        "outputId": "be4ab810-d2cc-4f2a-c165-9b9f14ba59c3"
      },
      "execution_count": null,
      "outputs": [
        {
          "output_type": "execute_result",
          "data": {
            "text/plain": [
              "(18649, 200)"
            ]
          },
          "metadata": {},
          "execution_count": 39
        }
      ]
    },
    {
      "cell_type": "code",
      "source": [
        "for word,i in tqdm(word_index.items()):\n",
        "    if i > num_words:\n",
        "        continue\n",
        "\n",
        "    emb_vec=emmbedding_dict.get(word)\n",
        "    if emb_vec is not None:\n",
        "        embedding_matrix[i]=emb_vec"
      ],
      "metadata": {
        "id": "rs6Vk56_SwuW",
        "colab": {
          "base_uri": "https://localhost:8080/"
        },
        "outputId": "f027daff-45fd-4501-a806-ced4b62c59a8"
      },
      "execution_count": null,
      "outputs": [
        {
          "output_type": "stream",
          "name": "stderr",
          "text": [
            "100%|██████████| 18648/18648 [00:00<00:00, 282911.39it/s]\n"
          ]
        }
      ]
    },
    {
      "cell_type": "code",
      "source": [
        "embedding_matrix.shape"
      ],
      "metadata": {
        "id": "_OAuWJ2ZSyyd",
        "colab": {
          "base_uri": "https://localhost:8080/"
        },
        "outputId": "ba5decca-0062-4a53-f64b-79344bf6de19"
      },
      "execution_count": null,
      "outputs": [
        {
          "output_type": "execute_result",
          "data": {
            "text/plain": [
              "(18649, 200)"
            ]
          },
          "metadata": {},
          "execution_count": 41
        }
      ]
    },
    {
      "cell_type": "markdown",
      "source": [
        "Splitting of new data"
      ],
      "metadata": {
        "id": "9zJGq4dFzrAG"
      }
    },
    {
      "cell_type": "code",
      "source": [
        "from sklearn.model_selection import train_test_split\n",
        "\n",
        "Xtrain, Xtest, y1train, y1test, y2train, y2test = train_test_split(emb_comments, emb_quality, emb_difficulty, test_size=0.2,random_state=2)"
      ],
      "metadata": {
        "id": "ktRqJ0glWEQi"
      },
      "execution_count": null,
      "outputs": []
    },
    {
      "cell_type": "markdown",
      "source": [
        "\n",
        "\n",
        "# **Train an LSTM and GRU**"
      ],
      "metadata": {
        "id": "g_jdG76pzyRg"
      }
    },
    {
      "cell_type": "markdown",
      "source": [
        "We now train both an LSTM and a GRU. In doing this we find that the GRU outperforms that LSTM in this case."
      ],
      "metadata": {
        "id": "TB0i_wh8vBBs"
      }
    },
    {
      "cell_type": "code",
      "source": [
        "#train the model\n",
        "\n",
        "from keras.models import Sequential\n",
        "from keras.layers import LSTM,Dense,Dropout,Embedding,CuDNNLSTM,Bidirectional,SpatialDropout1D,BatchNormalization,GRU\n",
        "from keras.initializers import Constant\n",
        "from keras.regularizers import l2"
      ],
      "metadata": {
        "id": "bphF69unWTmR"
      },
      "execution_count": null,
      "outputs": []
    },
    {
      "cell_type": "markdown",
      "source": [
        "Model training using Embedding and LSTM"
      ],
      "metadata": {
        "id": "cSyjfRB2z9vF"
      }
    },
    {
      "cell_type": "code",
      "source": [
        "model=Sequential()\n",
        "\n",
        "embedding_layer=Embedding(num_words,200,embeddings_initializer=Constant(embedding_matrix),\n",
        "                   input_length=max_words,trainable=False)\n",
        "\n",
        "model.add(embedding_layer)\n",
        "model.add(SpatialDropout1D(0.2))\n",
        "model.add(LSTM(64, dropout=0.2, recurrent_dropout=0.2,return_sequences=True))\n",
        "model.add(tf.keras.layers.LSTM(32,return_sequences=True))\n",
        "model.add(tf.keras.layers.LSTM(16))\n",
        "model.add(tf.keras.layers.Dense(16, activation='relu'))\n",
        "\n",
        "model.add(Dense(2, activation='linear'))"
      ],
      "metadata": {
        "id": "wdbDOmbwWZlJ"
      },
      "execution_count": null,
      "outputs": []
    },
    {
      "cell_type": "code",
      "source": [
        "model.compile(optimizer='adam',loss=\"mse\",metrics=['mse', 'mae'])"
      ],
      "metadata": {
        "id": "BqlNThyiWeRa"
      },
      "execution_count": null,
      "outputs": []
    },
    {
      "cell_type": "code",
      "source": [
        "model.fit(Xtrain, y1train, batch_size=128, epochs=10, validation_split=0.2)"
      ],
      "metadata": {
        "id": "wR80sMjMWfkd",
        "colab": {
          "base_uri": "https://localhost:8080/"
        },
        "outputId": "68dfcbbc-04b4-4d0a-93f6-3ec43f6e7287"
      },
      "execution_count": null,
      "outputs": [
        {
          "output_type": "stream",
          "name": "stdout",
          "text": [
            "Epoch 1/10\n",
            "102/102 [==============================] - 55s 451ms/step - loss: 4.3238 - mse: 4.3238 - mae: 1.7208 - val_loss: 2.1584 - val_mse: 2.1584 - val_mae: 1.2837\n",
            "Epoch 2/10\n",
            "102/102 [==============================] - 44s 437ms/step - loss: 2.1053 - mse: 2.1053 - mae: 1.2680 - val_loss: 2.1582 - val_mse: 2.1582 - val_mae: 1.2844\n",
            "Epoch 3/10\n",
            "102/102 [==============================] - 46s 447ms/step - loss: 2.1042 - mse: 2.1042 - mae: 1.2680 - val_loss: 2.1616 - val_mse: 2.1616 - val_mae: 1.2767\n",
            "Epoch 4/10\n",
            "102/102 [==============================] - 45s 445ms/step - loss: 2.1029 - mse: 2.1029 - mae: 1.2670 - val_loss: 2.1591 - val_mse: 2.1591 - val_mae: 1.2937\n",
            "Epoch 5/10\n",
            "102/102 [==============================] - 48s 470ms/step - loss: 2.1029 - mse: 2.1029 - mae: 1.2671 - val_loss: 2.1581 - val_mse: 2.1581 - val_mae: 1.2900\n",
            "Epoch 6/10\n",
            "102/102 [==============================] - 45s 447ms/step - loss: 2.1040 - mse: 2.1040 - mae: 1.2682 - val_loss: 2.1579 - val_mse: 2.1579 - val_mae: 1.2870\n",
            "Epoch 7/10\n",
            "102/102 [==============================] - 45s 445ms/step - loss: 2.1033 - mse: 2.1033 - mae: 1.2672 - val_loss: 2.1592 - val_mse: 2.1592 - val_mae: 1.2941\n",
            "Epoch 8/10\n",
            "102/102 [==============================] - 45s 445ms/step - loss: 2.1049 - mse: 2.1049 - mae: 1.2691 - val_loss: 2.1583 - val_mse: 2.1583 - val_mae: 1.2836\n",
            "Epoch 9/10\n",
            "102/102 [==============================] - 47s 460ms/step - loss: 2.1042 - mse: 2.1042 - mae: 1.2668 - val_loss: 2.1579 - val_mse: 2.1579 - val_mae: 1.2882\n",
            "Epoch 10/10\n",
            "102/102 [==============================] - 46s 449ms/step - loss: 2.1051 - mse: 2.1051 - mae: 1.2682 - val_loss: 2.1591 - val_mse: 2.1591 - val_mae: 1.2812\n"
          ]
        },
        {
          "output_type": "execute_result",
          "data": {
            "text/plain": [
              "<keras.callbacks.History at 0x7fc4b75197b0>"
            ]
          },
          "metadata": {},
          "execution_count": 46
        }
      ]
    },
    {
      "cell_type": "code",
      "source": [
        "model.fit(Xtrain, y2train, batch_size=128, epochs=10, validation_split=0.2)"
      ],
      "metadata": {
        "id": "HzccBILSWs5F",
        "colab": {
          "base_uri": "https://localhost:8080/"
        },
        "outputId": "1674ca75-1722-4c98-a619-ad26dbea34d4"
      },
      "execution_count": null,
      "outputs": [
        {
          "output_type": "stream",
          "name": "stdout",
          "text": [
            "Epoch 1/10\n",
            "102/102 [==============================] - 48s 468ms/step - loss: 1.7124 - mse: 1.7124 - mae: 1.0726 - val_loss: 1.7241 - val_mse: 1.7241 - val_mae: 1.0750\n",
            "Epoch 2/10\n",
            "102/102 [==============================] - 45s 442ms/step - loss: 1.6893 - mse: 1.6893 - mae: 1.0547 - val_loss: 1.7232 - val_mse: 1.7232 - val_mae: 1.0681\n",
            "Epoch 3/10\n",
            "102/102 [==============================] - 46s 449ms/step - loss: 1.6883 - mse: 1.6883 - mae: 1.0592 - val_loss: 1.7249 - val_mse: 1.7249 - val_mae: 1.0667\n",
            "Epoch 4/10\n",
            "102/102 [==============================] - 45s 442ms/step - loss: 1.6894 - mse: 1.6894 - mae: 1.0594 - val_loss: 1.7232 - val_mse: 1.7232 - val_mae: 1.0659\n",
            "Epoch 5/10\n",
            "102/102 [==============================] - 46s 448ms/step - loss: 1.6887 - mse: 1.6887 - mae: 1.0583 - val_loss: 1.7232 - val_mse: 1.7232 - val_mae: 1.0664\n",
            "Epoch 6/10\n",
            "102/102 [==============================] - 46s 447ms/step - loss: 1.6898 - mse: 1.6898 - mae: 1.0588 - val_loss: 1.7259 - val_mse: 1.7259 - val_mae: 1.0697\n",
            "Epoch 7/10\n",
            "102/102 [==============================] - 46s 449ms/step - loss: 1.6897 - mse: 1.6897 - mae: 1.0610 - val_loss: 1.7250 - val_mse: 1.7250 - val_mae: 1.0669\n",
            "Epoch 8/10\n",
            "102/102 [==============================] - 48s 467ms/step - loss: 1.6918 - mse: 1.6918 - mae: 1.0652 - val_loss: 1.7233 - val_mse: 1.7233 - val_mae: 1.0636\n",
            "Epoch 9/10\n",
            "102/102 [==============================] - 46s 449ms/step - loss: 1.6874 - mse: 1.6874 - mae: 1.0533 - val_loss: 1.7241 - val_mse: 1.7241 - val_mae: 1.0750\n",
            "Epoch 10/10\n",
            "102/102 [==============================] - 46s 453ms/step - loss: 1.6903 - mse: 1.6903 - mae: 1.0606 - val_loss: 1.7234 - val_mse: 1.7234 - val_mae: 1.0625\n"
          ]
        },
        {
          "output_type": "execute_result",
          "data": {
            "text/plain": [
              "<keras.callbacks.History at 0x7fc4b1b33520>"
            ]
          },
          "metadata": {},
          "execution_count": 47
        }
      ]
    },
    {
      "cell_type": "code",
      "source": [
        "yprediction= model.predict(Xtest)"
      ],
      "metadata": {
        "id": "e0mxyBT6W0zP",
        "colab": {
          "base_uri": "https://localhost:8080/"
        },
        "outputId": "d7b314af-433d-46cc-a7b9-2b0cba22296f"
      },
      "execution_count": null,
      "outputs": [
        {
          "output_type": "stream",
          "name": "stdout",
          "text": [
            "127/127 [==============================] - 10s 56ms/step\n"
          ]
        }
      ]
    },
    {
      "cell_type": "code",
      "source": [
        "yprediction[:10]"
      ],
      "metadata": {
        "id": "fvUAOS0rW_ca",
        "colab": {
          "base_uri": "https://localhost:8080/"
        },
        "outputId": "14d3983c-adb9-4c4a-843f-aea36e5a4841"
      },
      "execution_count": null,
      "outputs": [
        {
          "output_type": "execute_result",
          "data": {
            "text/plain": [
              "array([[2.99279  , 2.9961703],\n",
              "       [2.9928787, 2.9962242],\n",
              "       [2.992877 , 2.9962232],\n",
              "       [2.9928212, 2.9961884],\n",
              "       [2.9929018, 2.9962409],\n",
              "       [2.9927776, 2.9961648],\n",
              "       [2.9927776, 2.9961648],\n",
              "       [2.9927905, 2.9961712],\n",
              "       [2.9928157, 2.9961848],\n",
              "       [2.9928205, 2.9961877]], dtype=float32)"
            ]
          },
          "metadata": {},
          "execution_count": 49
        }
      ]
    },
    {
      "cell_type": "code",
      "source": [
        "y1test[:10]"
      ],
      "metadata": {
        "id": "bQqKnyO4W4aX",
        "colab": {
          "base_uri": "https://localhost:8080/"
        },
        "outputId": "65854a7f-b8d7-41cf-fdf7-5130bb5ade5a"
      },
      "execution_count": null,
      "outputs": [
        {
          "output_type": "execute_result",
          "data": {
            "text/plain": [
              "array([4.5, 5. , 5. , 1. , 5. , 4. , 1. , 1. , 4.5, 5. ], dtype=float32)"
            ]
          },
          "metadata": {},
          "execution_count": 50
        }
      ]
    },
    {
      "cell_type": "code",
      "source": [
        "y2test[:10]"
      ],
      "metadata": {
        "id": "qd4nJfOUW9-W",
        "colab": {
          "base_uri": "https://localhost:8080/"
        },
        "outputId": "1b5a5cc4-6cd4-474f-8998-395dd57d0b14"
      },
      "execution_count": null,
      "outputs": [
        {
          "output_type": "execute_result",
          "data": {
            "text/plain": [
              "array([4., 3., 3., 5., 5., 3., 5., 5., 3., 1.], dtype=float32)"
            ]
          },
          "metadata": {},
          "execution_count": 51
        }
      ]
    },
    {
      "cell_type": "markdown",
      "source": [
        "Model training using GRU"
      ],
      "metadata": {
        "id": "WsMHqpqN0Jy2"
      }
    },
    {
      "cell_type": "code",
      "source": [
        "model=Sequential()\n",
        "\n",
        "embedding_layer=Embedding(num_words,200,embeddings_initializer=Constant(embedding_matrix),\n",
        "                   input_length=max_words,trainable=False)\n",
        "\n",
        "model.add(embedding_layer)\n",
        "model.add(SpatialDropout1D(0.2))\n",
        "model.add(GRU(64, dropout=0.2, recurrent_dropout=0.2,return_sequences=True))\n",
        "model.add(tf.keras.layers.GRU(32,return_sequences=True))\n",
        "model.add(tf.keras.layers.GRU(16))\n",
        "model.add(tf.keras.layers.Dense(16, activation='relu'))\n",
        "\n",
        "model.add(Dense(2, activation='linear'))"
      ],
      "metadata": {
        "id": "2WxYwSMgXIDD"
      },
      "execution_count": null,
      "outputs": []
    },
    {
      "cell_type": "code",
      "source": [
        "model.compile(optimizer='adam',loss=\"mse\",metrics=['mse', 'mae'])"
      ],
      "metadata": {
        "id": "iHtNYju5XLLl"
      },
      "execution_count": null,
      "outputs": []
    },
    {
      "cell_type": "code",
      "source": [
        "model.fit(Xtrain, y1train, batch_size=128, epochs=10, validation_split=0.2)"
      ],
      "metadata": {
        "id": "i2p65j3FXvMN",
        "colab": {
          "base_uri": "https://localhost:8080/"
        },
        "outputId": "30c0a487-5f08-4a3f-c943-1396780133da"
      },
      "execution_count": null,
      "outputs": [
        {
          "output_type": "stream",
          "name": "stdout",
          "text": [
            "Epoch 1/10\n",
            "102/102 [==============================] - 53s 442ms/step - loss: 4.6376 - mse: 4.6376 - mae: 1.7654 - val_loss: 2.1562 - val_mse: 2.1562 - val_mae: 1.2895\n",
            "Epoch 2/10\n",
            "102/102 [==============================] - 43s 422ms/step - loss: 1.9401 - mse: 1.9401 - mae: 1.2153 - val_loss: 1.4155 - val_mse: 1.4155 - val_mae: 0.9860\n",
            "Epoch 3/10\n",
            "102/102 [==============================] - 44s 430ms/step - loss: 1.1874 - mse: 1.1874 - mae: 0.8626 - val_loss: 1.0622 - val_mse: 1.0622 - val_mae: 0.7968\n",
            "Epoch 4/10\n",
            "102/102 [==============================] - 43s 424ms/step - loss: 1.0687 - mse: 1.0687 - mae: 0.7987 - val_loss: 1.0780 - val_mse: 1.0780 - val_mae: 0.7756\n",
            "Epoch 5/10\n",
            "102/102 [==============================] - 44s 433ms/step - loss: 1.0350 - mse: 1.0350 - mae: 0.7833 - val_loss: 1.0204 - val_mse: 1.0204 - val_mae: 0.7905\n",
            "Epoch 6/10\n",
            "102/102 [==============================] - 44s 433ms/step - loss: 1.0208 - mse: 1.0208 - mae: 0.7776 - val_loss: 0.9973 - val_mse: 0.9973 - val_mae: 0.7635\n",
            "Epoch 7/10\n",
            "102/102 [==============================] - 43s 422ms/step - loss: 0.9911 - mse: 0.9911 - mae: 0.7629 - val_loss: 0.9871 - val_mse: 0.9871 - val_mae: 0.7526\n",
            "Epoch 8/10\n",
            "102/102 [==============================] - 43s 422ms/step - loss: 0.9560 - mse: 0.9560 - mae: 0.7475 - val_loss: 1.0325 - val_mse: 1.0325 - val_mae: 0.7550\n",
            "Epoch 9/10\n",
            "102/102 [==============================] - 43s 423ms/step - loss: 0.9291 - mse: 0.9291 - mae: 0.7332 - val_loss: 0.9741 - val_mse: 0.9741 - val_mae: 0.7448\n",
            "Epoch 10/10\n",
            "102/102 [==============================] - 44s 430ms/step - loss: 0.9102 - mse: 0.9102 - mae: 0.7241 - val_loss: 1.0285 - val_mse: 1.0285 - val_mae: 0.7512\n"
          ]
        },
        {
          "output_type": "execute_result",
          "data": {
            "text/plain": [
              "<keras.callbacks.History at 0x7fc4b76b0040>"
            ]
          },
          "metadata": {},
          "execution_count": 54
        }
      ]
    },
    {
      "cell_type": "code",
      "source": [
        "model.fit(Xtrain, y2train, batch_size=128, epochs=10, validation_split=0.2)"
      ],
      "metadata": {
        "id": "v7CYtTiBX1qO",
        "colab": {
          "base_uri": "https://localhost:8080/"
        },
        "outputId": "a5ced00f-b584-4930-ae16-43a8fdc4952c"
      },
      "execution_count": null,
      "outputs": [
        {
          "output_type": "stream",
          "name": "stdout",
          "text": [
            "Epoch 1/10\n",
            "102/102 [==============================] - 45s 442ms/step - loss: 1.8172 - mse: 1.8172 - mae: 1.1052 - val_loss: 1.5606 - val_mse: 1.5606 - val_mae: 1.0485\n",
            "Epoch 2/10\n",
            "102/102 [==============================] - 43s 424ms/step - loss: 1.4146 - mse: 1.4146 - mae: 0.9997 - val_loss: 1.3995 - val_mse: 1.3995 - val_mae: 0.9791\n",
            "Epoch 3/10\n",
            "102/102 [==============================] - 47s 459ms/step - loss: 1.3298 - mse: 1.3298 - mae: 0.9556 - val_loss: 1.3455 - val_mse: 1.3455 - val_mae: 0.9568\n",
            "Epoch 4/10\n",
            "102/102 [==============================] - 43s 419ms/step - loss: 1.2943 - mse: 1.2943 - mae: 0.9378 - val_loss: 1.3609 - val_mse: 1.3609 - val_mae: 0.9666\n",
            "Epoch 5/10\n",
            "102/102 [==============================] - 43s 426ms/step - loss: 1.2750 - mse: 1.2750 - mae: 0.9277 - val_loss: 1.3393 - val_mse: 1.3393 - val_mae: 0.9586\n",
            "Epoch 6/10\n",
            "102/102 [==============================] - 47s 459ms/step - loss: 1.2437 - mse: 1.2437 - mae: 0.9135 - val_loss: 1.3395 - val_mse: 1.3395 - val_mae: 0.9596\n",
            "Epoch 7/10\n",
            "102/102 [==============================] - 43s 423ms/step - loss: 1.2449 - mse: 1.2449 - mae: 0.9126 - val_loss: 1.4011 - val_mse: 1.4011 - val_mae: 0.9772\n",
            "Epoch 8/10\n",
            "102/102 [==============================] - 43s 422ms/step - loss: 1.2217 - mse: 1.2217 - mae: 0.9046 - val_loss: 1.3391 - val_mse: 1.3391 - val_mae: 0.9558\n",
            "Epoch 9/10\n",
            "102/102 [==============================] - 43s 420ms/step - loss: 1.2085 - mse: 1.2085 - mae: 0.8997 - val_loss: 1.2982 - val_mse: 1.2982 - val_mae: 0.9321\n",
            "Epoch 10/10\n",
            "102/102 [==============================] - 43s 421ms/step - loss: 1.1845 - mse: 1.1845 - mae: 0.8896 - val_loss: 1.3030 - val_mse: 1.3030 - val_mae: 0.9308\n"
          ]
        },
        {
          "output_type": "execute_result",
          "data": {
            "text/plain": [
              "<keras.callbacks.History at 0x7fc4b4b1cca0>"
            ]
          },
          "metadata": {},
          "execution_count": 55
        }
      ]
    },
    {
      "cell_type": "code",
      "source": [
        "yprediction= model.predict(Xtest)"
      ],
      "metadata": {
        "id": "N9T24fRibfNw",
        "colab": {
          "base_uri": "https://localhost:8080/"
        },
        "outputId": "cbbdd784-cc4c-4065-df79-931db11b0926"
      },
      "execution_count": null,
      "outputs": [
        {
          "output_type": "stream",
          "name": "stdout",
          "text": [
            "127/127 [==============================] - 5s 30ms/step\n"
          ]
        }
      ]
    },
    {
      "cell_type": "code",
      "source": [
        "yprediction[:10]"
      ],
      "metadata": {
        "id": "6xGU59CgbniI",
        "colab": {
          "base_uri": "https://localhost:8080/"
        },
        "outputId": "ae5d3b66-7726-48ed-9e14-3813a6334b73"
      },
      "execution_count": null,
      "outputs": [
        {
          "output_type": "execute_result",
          "data": {
            "text/plain": [
              "array([[3.071682 , 3.067588 ],\n",
              "       [3.2067616, 3.196197 ],\n",
              "       [2.7618496, 2.7652657],\n",
              "       [3.3216102, 3.3234096],\n",
              "       [2.7166715, 2.7185328],\n",
              "       [3.0822356, 3.0892062],\n",
              "       [3.0822356, 3.0892062],\n",
              "       [3.8171513, 3.8415046],\n",
              "       [3.199971 , 3.2089634],\n",
              "       [1.8711659, 1.8848156]], dtype=float32)"
            ]
          },
          "metadata": {},
          "execution_count": 57
        }
      ]
    },
    {
      "cell_type": "code",
      "source": [
        "y1test[:10]"
      ],
      "metadata": {
        "id": "wd4SLQQqbjbo",
        "colab": {
          "base_uri": "https://localhost:8080/"
        },
        "outputId": "8c097016-640a-4179-d890-c54813ba5258"
      },
      "execution_count": null,
      "outputs": [
        {
          "output_type": "execute_result",
          "data": {
            "text/plain": [
              "array([4.5, 5. , 5. , 1. , 5. , 4. , 1. , 1. , 4.5, 5. ], dtype=float32)"
            ]
          },
          "metadata": {},
          "execution_count": 58
        }
      ]
    },
    {
      "cell_type": "code",
      "source": [
        "y2test[:10]"
      ],
      "metadata": {
        "id": "fwLDk2JsblhB",
        "colab": {
          "base_uri": "https://localhost:8080/"
        },
        "outputId": "8e21f536-7928-4218-d579-81c7f30869d2"
      },
      "execution_count": null,
      "outputs": [
        {
          "output_type": "execute_result",
          "data": {
            "text/plain": [
              "array([4., 3., 3., 5., 5., 3., 5., 5., 3., 1.], dtype=float32)"
            ]
          },
          "metadata": {},
          "execution_count": 59
        }
      ]
    },
    {
      "cell_type": "markdown",
      "source": [
        "Observation: GRU model performs better."
      ],
      "metadata": {
        "id": "lJAtxUpp1GjE"
      }
    },
    {
      "cell_type": "markdown",
      "source": [
        "# **Text Classification Model**"
      ],
      "metadata": {
        "id": "4cvRfA3OOUWl"
      }
    },
    {
      "cell_type": "markdown",
      "source": [
        "To create this model, we followed TensorFlow's \"Text classification with an RNN\" tutorial. Since our dataset and desired output differed from the tutorial, we made necessary adjustments to the data processing, splitting of the training and test batches, model architecture, and other hyperparameters. Here are a few changes we experimented with or general observations we made before moving forward with the following setup.\n",
        "\n",
        "\n",
        "*   Pre-processing the data had its challenges. It took a couple of tries to get the initial setup, but additional steps were needed for each model to adapt the data for each architecture.\n",
        "\n",
        "*   We tried experimenting with the model architecture by adjusting and adding layers.\n",
        "\n",
        "*   We first tried using a dataset with all the comments, quality, and difficulty ratings for training. It was challenging to adjust the model with the data, so we moved forward with two different data sets: comments+quality and comments+difficulty. We then trained the model with both datasets.\n",
        "\n",
        "*   When interpreting the results, we needed to keep in mind that the desired outputs are in increments of .5, and the upper limit is 5. Since the predictions do not follow this format, the performance scores are less representative of the output.\n",
        "\n",
        "\n",
        "References: [Text classification with an RNN](https://www.tensorflow.org/text/tutorials/text_classification_rnn)"
      ],
      "metadata": {
        "id": "Ajycd_cdMcfv"
      }
    },
    {
      "cell_type": "markdown",
      "source": [
        "\n",
        "\n",
        "---\n",
        "\n"
      ],
      "metadata": {
        "id": "DC33V2NPR8ip"
      }
    },
    {
      "cell_type": "markdown",
      "source": [
        "**Setup and Splitting Training and Test Sets**"
      ],
      "metadata": {
        "id": "w8AhwXt7MfRS"
      }
    },
    {
      "cell_type": "code",
      "source": [
        "# Setup\n",
        "import numpy as np\n",
        "import tensorflow_datasets as tfds\n",
        "import tensorflow as tf"
      ],
      "metadata": {
        "id": "UP7cVrUlMSar"
      },
      "execution_count": null,
      "outputs": []
    },
    {
      "cell_type": "code",
      "source": [
        "# Determine test size (20% of total data)\n",
        "test_size = round(len(sample_comments)*0.2)\n",
        "print('test size:', test_size)\n",
        "\n",
        "# Create comments + quality datasets\n",
        "train_quality = tf.data.Dataset.from_tensor_slices((sample_comments[test_size:],sample_quality[test_size:]))\n",
        "test_quality = tf.data.Dataset.from_tensor_slices((sample_comments[:test_size],sample_quality[:test_size]))\n",
        "\n",
        "# Create comments + difficulty datasets\n",
        "train_difficulty = tf.data.Dataset.from_tensor_slices((sample_comments[test_size:],sample_difficulty[test_size:]))\n",
        "test_difficulty = tf.data.Dataset.from_tensor_slices((sample_comments[:test_size],sample_difficulty[:test_size]))\n",
        "\n",
        "# The following sets were created mainly for verification of the above datasets, and were not utilized in the text_classification_model.\n",
        "\n",
        "# Create full training datasets\n",
        "train_data = tf.data.Dataset.from_tensor_slices((sample_comments[test_size:],sample_quality[test_size:],sample_difficulty[test_size:]))\n",
        "\n",
        "# Create full test datasets\n",
        "test_data = tf.data.Dataset.from_tensor_slices((sample_comments[:test_size],sample_quality[:test_size],sample_difficulty[:test_size]))\n",
        "\n",
        "# Verify Training and Test Dataset sizes\n",
        "print('train data size:', len(train_quality))\n",
        "print('test data size:',len(test_quality))\n",
        "print('total data size:', len(train_quality) + len(test_quality))"
      ],
      "metadata": {
        "id": "feuCWpCQMjoF",
        "colab": {
          "base_uri": "https://localhost:8080/"
        },
        "outputId": "2c5b2665-80ef-4cb2-d884-f7af2d09cc4d"
      },
      "execution_count": null,
      "outputs": [
        {
          "output_type": "stream",
          "name": "stdout",
          "text": [
            "test size: 4056\n",
            "train data size: 16225\n",
            "test data size: 4056\n",
            "total data size: 20281\n"
          ]
        }
      ]
    },
    {
      "cell_type": "code",
      "source": [
        "# Printing out a sample to verify splitting was accurate\n",
        "\n",
        "for comment, quality, difficulty in train_data.take(1):\n",
        "  print('comment: ', comment.numpy())\n",
        "  print('quality: ', quality.numpy())\n",
        "  print('difficulty: ', difficulty.numpy())"
      ],
      "metadata": {
        "id": "54c79uqqMlf8",
        "colab": {
          "base_uri": "https://localhost:8080/"
        },
        "outputId": "ecc22856-ec8c-48d3-a4b0-72962ac56c52"
      },
      "execution_count": null,
      "outputs": [
        {
          "output_type": "stream",
          "name": "stdout",
          "text": [
            "comment:  b'expects work work hard shell reward effort shes going meet halfway though kind encouraging seek help guidance really super professor'\n",
            "quality:  4.5\n",
            "difficulty:  3.0\n"
          ]
        }
      ]
    },
    {
      "cell_type": "code",
      "source": [
        "# Printing out a sample from comments + quality to verify splitting was accurate\n",
        "for comment, quality in train_quality.take(1):\n",
        "  print('comment: ', comment.numpy())\n",
        "  print('quality: ', quality.numpy())\n",
        "\n",
        "print()\n",
        "\n",
        "# Printing out a sample from comments + quality to verify splitting was accurate\n",
        "for comment, difficulty in train_difficulty.take(1):\n",
        "  print('comment: ', comment.numpy())\n",
        "  print('difficulty: ', difficulty.numpy())"
      ],
      "metadata": {
        "id": "1nclvnWCMm_A",
        "colab": {
          "base_uri": "https://localhost:8080/"
        },
        "outputId": "1b157903-4a1b-4051-c93b-0ecdbcd05d02"
      },
      "execution_count": null,
      "outputs": [
        {
          "output_type": "stream",
          "name": "stdout",
          "text": [
            "comment:  b'expects work work hard shell reward effort shes going meet halfway though kind encouraging seek help guidance really super professor'\n",
            "quality:  4.5\n",
            "\n",
            "comment:  b'expects work work hard shell reward effort shes going meet halfway though kind encouraging seek help guidance really super professor'\n",
            "difficulty:  3.0\n"
          ]
        }
      ]
    },
    {
      "cell_type": "code",
      "source": [
        "# Shuffling the training and test batches\n",
        "\n",
        "BUFFER_SIZE = 10000\n",
        "BATCH_SIZE = 64\n",
        "\n",
        "train_quality = train_quality.shuffle(BUFFER_SIZE).batch(BATCH_SIZE).prefetch(tf.data.AUTOTUNE)\n",
        "test_quality = test_quality.batch(BATCH_SIZE).prefetch(tf.data.AUTOTUNE)\n",
        "\n",
        "train_difficulty = train_difficulty.shuffle(BUFFER_SIZE).batch(BATCH_SIZE).prefetch(tf.data.AUTOTUNE)\n",
        "test_difficulty = test_difficulty.batch(BATCH_SIZE).prefetch(tf.data.AUTOTUNE)"
      ],
      "metadata": {
        "id": "RjiWpes9Mpp5"
      },
      "execution_count": null,
      "outputs": []
    },
    {
      "cell_type": "markdown",
      "source": [
        "**Creating the Text Encoder**"
      ],
      "metadata": {
        "id": "vhToZ_PnMwZ-"
      }
    },
    {
      "cell_type": "code",
      "source": [
        "# Initializing the Text Vectorization layer\n",
        "\n",
        "VOCAB_SIZE = 1000\n",
        "encoder = tf.keras.layers.TextVectorization(\n",
        "    max_tokens=VOCAB_SIZE)\n",
        "encoder.adapt(train_quality.map(lambda comment, quality:comment))"
      ],
      "metadata": {
        "id": "fggllS_FMxEv"
      },
      "execution_count": null,
      "outputs": []
    },
    {
      "cell_type": "code",
      "source": [
        "# Creating a vocabulary from the datasets and outputting the 25 tokens that appeared most frequently\n",
        "vocabulary = np.array(encoder.get_vocabulary())\n",
        "vocabulary[:25]"
      ],
      "metadata": {
        "id": "DUwjRrl4MzlM",
        "colab": {
          "base_uri": "https://localhost:8080/"
        },
        "outputId": "c8e3a108-7f64-4bc9-c53d-8baa5021c393"
      },
      "execution_count": null,
      "outputs": [
        {
          "output_type": "execute_result",
          "data": {
            "text/plain": [
              "array(['', '[UNK]', 'class', 'take', 'teacher', 'professor', 'test',\n",
              "       'easy', 'great', 'really', 'student', 'make', 'good', 'get',\n",
              "       'hard', 'lecture', 'lot', 'time', 'one', 'help', 'work', 'dont',\n",
              "       'he', 'know', 'like'], dtype='<U15')"
            ]
          },
          "metadata": {},
          "execution_count": 32
        }
      ]
    },
    {
      "cell_type": "code",
      "source": [
        "# Verifying the encoder with an example comment\n",
        "\n",
        "print(comment)\n",
        "encoded_example = encoder(comment).numpy()\n",
        "encoded_example\n",
        "\n",
        "print(\"encoded: \",vocabulary[encoded_example])"
      ],
      "metadata": {
        "id": "euxk7iV6M215",
        "colab": {
          "base_uri": "https://localhost:8080/"
        },
        "outputId": "cb22bda8-f3c0-4066-db25-5f5d88b634fa"
      },
      "execution_count": null,
      "outputs": [
        {
          "output_type": "stream",
          "name": "stdout",
          "text": [
            "tf.Tensor(b'expects work work hard shell reward effort shes going meet halfway though kind encouraging seek help guidance really super professor', shape=(), dtype=string)\n",
            "encoded:  ['expects' 'work' 'work' 'hard' 'shell' '[UNK]' 'effort' 'shes' 'going'\n",
            " 'meet' '[UNK]' 'though' 'kind' 'encouraging' '[UNK]' 'help' '[UNK]'\n",
            " 'really' 'super' 'professor']\n"
          ]
        }
      ]
    },
    {
      "cell_type": "markdown",
      "source": [
        "**Creating the text_classification_model**"
      ],
      "metadata": {
        "id": "4p37g8LVM6dS"
      }
    },
    {
      "cell_type": "code",
      "source": [
        "# Defining the text_classification_model\n",
        "\n",
        "text_classification_model = tf.keras.Sequential([\n",
        "    encoder,\n",
        "    tf.keras.layers.Embedding(\n",
        "        input_dim=len(vocabulary),\n",
        "        output_dim=64,\n",
        "        mask_zero=True),\n",
        "    tf.keras.layers.Bidirectional(tf.keras.layers.LSTM(64)),\n",
        "    tf.keras.layers.Dense(64, activation='relu'),\n",
        "    tf.keras.layers.Dense(16, activation='linear'),\n",
        "    tf.keras.layers.Dense(1)\n",
        "])"
      ],
      "metadata": {
        "id": "LPCk7CQOM5VQ"
      },
      "execution_count": null,
      "outputs": []
    },
    {
      "cell_type": "code",
      "source": [
        "# Compile model with adam optimizer function, mean squared error loss, and mean squared error, mean absolute error, and accuracy for the metrics\n",
        "\n",
        "text_classification_model.compile(optimizer='adam',loss=\"mse\",metrics=['mse', 'mae', 'accuracy'])"
      ],
      "metadata": {
        "id": "KxDGDTuEM_kU"
      },
      "execution_count": null,
      "outputs": []
    },
    {
      "cell_type": "markdown",
      "source": [
        "**Training the text_classification_model on Comments + Quality Dataset**"
      ],
      "metadata": {
        "id": "-Pp-QgNfNCM0"
      }
    },
    {
      "cell_type": "code",
      "source": [
        "# Training the model on comments + quality dataset\n",
        "\n",
        "history=text_classification_model.fit(train_quality, epochs=10,validation_data=test_quality,\n",
        "                    validation_steps=30)"
      ],
      "metadata": {
        "id": "MQt_EN1SNELN",
        "colab": {
          "base_uri": "https://localhost:8080/"
        },
        "outputId": "6cb1eb5f-cbcd-4d0b-9cbb-9ac2ae4d31c1"
      },
      "execution_count": null,
      "outputs": [
        {
          "output_type": "stream",
          "name": "stdout",
          "text": [
            "Epoch 1/10\n",
            "254/254 [==============================] - 37s 104ms/step - loss: 2.3352 - mse: 2.3352 - mae: 1.1516 - accuracy: 0.1187 - val_loss: 1.1497 - val_mse: 1.1497 - val_mae: 0.8574 - val_accuracy: 0.1562\n",
            "Epoch 2/10\n",
            "254/254 [==============================] - 25s 97ms/step - loss: 1.0425 - mse: 1.0425 - mae: 0.7955 - accuracy: 0.1271 - val_loss: 1.0445 - val_mse: 1.0445 - val_mae: 0.8054 - val_accuracy: 0.1562\n",
            "Epoch 3/10\n",
            "254/254 [==============================] - 25s 98ms/step - loss: 0.9291 - mse: 0.9291 - mae: 0.7354 - accuracy: 0.1271 - val_loss: 1.0545 - val_mse: 1.0545 - val_mae: 0.7733 - val_accuracy: 0.1562\n",
            "Epoch 4/10\n",
            "254/254 [==============================] - 28s 109ms/step - loss: 0.8705 - mse: 0.8705 - mae: 0.7054 - accuracy: 0.1271 - val_loss: 1.0922 - val_mse: 1.0922 - val_mae: 0.7784 - val_accuracy: 0.1562\n",
            "Epoch 5/10\n",
            "254/254 [==============================] - 23s 92ms/step - loss: 0.8210 - mse: 0.8210 - mae: 0.6809 - accuracy: 0.1271 - val_loss: 1.0283 - val_mse: 1.0283 - val_mae: 0.7747 - val_accuracy: 0.1562\n",
            "Epoch 6/10\n",
            "254/254 [==============================] - 26s 103ms/step - loss: 0.7786 - mse: 0.7786 - mae: 0.6583 - accuracy: 0.1270 - val_loss: 1.0343 - val_mse: 1.0343 - val_mae: 0.7794 - val_accuracy: 0.1562\n",
            "Epoch 7/10\n",
            "254/254 [==============================] - 24s 96ms/step - loss: 0.7368 - mse: 0.7368 - mae: 0.6372 - accuracy: 0.1269 - val_loss: 1.1027 - val_mse: 1.1027 - val_mae: 0.7693 - val_accuracy: 0.1562\n",
            "Epoch 8/10\n",
            "254/254 [==============================] - 23s 92ms/step - loss: 0.6920 - mse: 0.6920 - mae: 0.6156 - accuracy: 0.1268 - val_loss: 1.1157 - val_mse: 1.1157 - val_mae: 0.7880 - val_accuracy: 0.1562\n",
            "Epoch 9/10\n",
            "254/254 [==============================] - 26s 102ms/step - loss: 0.6548 - mse: 0.6548 - mae: 0.5955 - accuracy: 0.1269 - val_loss: 1.1621 - val_mse: 1.1621 - val_mae: 0.7852 - val_accuracy: 0.1562\n",
            "Epoch 10/10\n",
            "254/254 [==============================] - 28s 111ms/step - loss: 0.6154 - mse: 0.6154 - mae: 0.5745 - accuracy: 0.1270 - val_loss: 1.1595 - val_mse: 1.1595 - val_mae: 0.7861 - val_accuracy: 0.1562\n"
          ]
        }
      ]
    },
    {
      "cell_type": "code",
      "source": [
        "#graph for model loss during test and train\n",
        "\n",
        "plt.plot(history.history['loss'])\n",
        "plt.plot(history.history['val_loss'])\n",
        "plt.title('model loss')\n",
        "plt.ylabel('loss')\n",
        "plt.xlabel('epoch')\n",
        "plt.legend(['train', 'test'], loc='upper left')\n",
        "plt.show()"
      ],
      "metadata": {
        "id": "9sh_gJmTVKFP",
        "colab": {
          "base_uri": "https://localhost:8080/",
          "height": 472
        },
        "outputId": "ba90da84-3dfc-4368-ba36-6944fda7bb6f"
      },
      "execution_count": null,
      "outputs": [
        {
          "output_type": "display_data",
          "data": {
            "text/plain": [
              "<Figure size 640x480 with 1 Axes>"
            ],
            "image/png": "[encoded data removed]"
          },
          "metadata": {}
        }
      ]
    },
    {
      "cell_type": "code",
      "source": [
        "# Extracting predictions for comments + quality\n",
        "\n",
        "quality_prediction = text_classification_model.predict(test_quality)"
      ],
      "metadata": {
        "id": "px-D72D0NF7j",
        "colab": {
          "base_uri": "https://localhost:8080/"
        },
        "outputId": "be4ffa1d-48f5-40de-a6f7-4c7a078d3f4c"
      },
      "execution_count": null,
      "outputs": [
        {
          "output_type": "stream",
          "name": "stdout",
          "text": [
            "64/64 [==============================] - 6s 30ms/step\n"
          ]
        }
      ]
    },
    {
      "cell_type": "code",
      "source": [
        "# Outputting predictions for comments + quality\n",
        "\n",
        "print('Model Predictions for Comments + Quality')\n",
        "quality_prediction[:15]"
      ],
      "metadata": {
        "id": "ROUEtRC5Tukb",
        "colab": {
          "base_uri": "https://localhost:8080/"
        },
        "outputId": "defb3af7-3d0c-4987-c477-36e71e3bebe0"
      },
      "execution_count": null,
      "outputs": [
        {
          "output_type": "stream",
          "name": "stdout",
          "text": [
            "Model Predictions for Comments + Quality\n"
          ]
        },
        {
          "output_type": "execute_result",
          "data": {
            "text/plain": [
              "array([[4.0140786],\n",
              "       [4.31195  ],\n",
              "       [4.476503 ],\n",
              "       [4.123226 ],\n",
              "       [4.642416 ],\n",
              "       [4.2252245],\n",
              "       [4.1607265],\n",
              "       [4.698437 ],\n",
              "       [4.8558774],\n",
              "       [4.257351 ],\n",
              "       [4.71572  ],\n",
              "       [4.8047647],\n",
              "       [4.9860773],\n",
              "       [4.6383505],\n",
              "       [4.74495  ]], dtype=float32)"
            ]
          },
          "metadata": {},
          "execution_count": 39
        }
      ]
    },
    {
      "cell_type": "code",
      "source": [
        "# Outputting average quality scores from original dataset\n",
        "\n",
        "print('Original Comments + Quality Dataset')\n",
        "for comment, quality in test_quality.take(15):\n",
        "  print(np.average(quality.numpy()))"
      ],
      "metadata": {
        "id": "ymyE96QhNTDl",
        "colab": {
          "base_uri": "https://localhost:8080/"
        },
        "outputId": "372b22bb-2d64-410a-f9b1-129c05063c91"
      },
      "execution_count": null,
      "outputs": [
        {
          "output_type": "stream",
          "name": "stdout",
          "text": [
            "Original Comments + Quality Dataset\n",
            "4.3046875\n",
            "2.9765625\n",
            "3.75\n",
            "3.3984375\n",
            "3.28125\n",
            "2.609375\n",
            "3.0546875\n",
            "3.625\n",
            "3.8515625\n",
            "3.21875\n",
            "2.9921875\n",
            "3.5\n",
            "3.5234375\n",
            "3.03125\n",
            "3.1015625\n"
          ]
        }
      ]
    },
    {
      "cell_type": "code",
      "source": [
        "quality_score = text_classification_model.evaluate(test_quality)\n",
        "\n",
        "print('Test Loss for Comment + Quality: ', quality_score[0])\n",
        "print('Test MSE for Comment + Quality: ', quality_score[1])\n",
        "print('Test MAE for Comment + Quality: ', quality_score[2])\n",
        "print('Test Accuracy for Comment + Quality: ', quality_score[3])"
      ],
      "metadata": {
        "id": "byAD70sNNc55",
        "colab": {
          "base_uri": "https://localhost:8080/"
        },
        "outputId": "f504a5ae-5c0b-41f9-8668-1e51c6dc8159"
      },
      "execution_count": null,
      "outputs": [
        {
          "output_type": "stream",
          "name": "stdout",
          "text": [
            "64/64 [==============================] - 2s 24ms/step - loss: 1.1405 - mse: 1.1405 - mae: 0.7791 - accuracy: 0.1376\n",
            "Test Loss for Comment + Quality:  1.1405481100082397\n",
            "Test MSE for Comment + Quality:  1.1405481100082397\n",
            "Test MAE for Comment + Quality:  0.7791128158569336\n",
            "Test Accuracy for Comment + Quality:  0.1375739574432373\n"
          ]
        }
      ]
    },
    {
      "cell_type": "markdown",
      "source": [
        "**Training the text_classification_model on Comments + Difficulty Dataset**"
      ],
      "metadata": {
        "id": "nygwj9mFNf6y"
      }
    },
    {
      "cell_type": "code",
      "source": [
        "# Training the model on comments + difficulty dataset\n",
        "\n",
        "history1=text_classification_model.fit(train_difficulty, epochs=10,validation_data=test_difficulty,\n",
        "                    validation_steps=30)"
      ],
      "metadata": {
        "id": "e9NI5hpzNhRm",
        "colab": {
          "base_uri": "https://localhost:8080/"
        },
        "outputId": "ed302b9c-588c-453d-d55a-3de620c4a063"
      },
      "execution_count": null,
      "outputs": [
        {
          "output_type": "stream",
          "name": "stdout",
          "text": [
            "Epoch 1/10\n",
            "254/254 [==============================] - 26s 102ms/step - loss: 1.4800 - mse: 1.4800 - mae: 1.0045 - accuracy: 0.1734 - val_loss: 1.2855 - val_mse: 1.2855 - val_mae: 0.9330 - val_accuracy: 0.1307\n",
            "Epoch 2/10\n",
            "254/254 [==============================] - 26s 101ms/step - loss: 1.2093 - mse: 1.2093 - mae: 0.8981 - accuracy: 0.1734 - val_loss: 1.3197 - val_mse: 1.3197 - val_mae: 0.9249 - val_accuracy: 0.1307\n",
            "Epoch 3/10\n",
            "254/254 [==============================] - 25s 98ms/step - loss: 1.1310 - mse: 1.1310 - mae: 0.8637 - accuracy: 0.1734 - val_loss: 1.3256 - val_mse: 1.3256 - val_mae: 0.9361 - val_accuracy: 0.1307\n",
            "Epoch 4/10\n",
            "254/254 [==============================] - 24s 95ms/step - loss: 1.0594 - mse: 1.0594 - mae: 0.8335 - accuracy: 0.1734 - val_loss: 1.3850 - val_mse: 1.3850 - val_mae: 0.9583 - val_accuracy: 0.1307\n",
            "Epoch 5/10\n",
            "254/254 [==============================] - 25s 98ms/step - loss: 0.9917 - mse: 0.9917 - mae: 0.8045 - accuracy: 0.1734 - val_loss: 1.3898 - val_mse: 1.3898 - val_mae: 0.9576 - val_accuracy: 0.1307\n",
            "Epoch 6/10\n",
            "254/254 [==============================] - 29s 113ms/step - loss: 0.9221 - mse: 0.9221 - mae: 0.7697 - accuracy: 0.1734 - val_loss: 1.5051 - val_mse: 1.5051 - val_mae: 0.9856 - val_accuracy: 0.1307\n",
            "Epoch 7/10\n",
            "254/254 [==============================] - 26s 101ms/step - loss: 0.8502 - mse: 0.8502 - mae: 0.7350 - accuracy: 0.1734 - val_loss: 1.5272 - val_mse: 1.5272 - val_mae: 0.9834 - val_accuracy: 0.1307\n",
            "Epoch 8/10\n",
            "254/254 [==============================] - 24s 94ms/step - loss: 0.7820 - mse: 0.7820 - mae: 0.6985 - accuracy: 0.1734 - val_loss: 1.6349 - val_mse: 1.6349 - val_mae: 1.0266 - val_accuracy: 0.1307\n",
            "Epoch 9/10\n",
            "254/254 [==============================] - 24s 93ms/step - loss: 0.7270 - mse: 0.7270 - mae: 0.6700 - accuracy: 0.1734 - val_loss: 1.5774 - val_mse: 1.5774 - val_mae: 1.0090 - val_accuracy: 0.1307\n",
            "Epoch 10/10\n",
            "254/254 [==============================] - 26s 102ms/step - loss: 0.6762 - mse: 0.6762 - mae: 0.6425 - accuracy: 0.1731 - val_loss: 1.6603 - val_mse: 1.6603 - val_mae: 1.0218 - val_accuracy: 0.1307\n"
          ]
        }
      ]
    },
    {
      "cell_type": "code",
      "source": [
        "#graph for model loss during test and train\n",
        "\n",
        "plt.plot(history1.history['loss'])\n",
        "plt.plot(history1.history['val_loss'])\n",
        "plt.title('model loss')\n",
        "plt.ylabel('loss')\n",
        "plt.xlabel('epoch')\n",
        "plt.legend(['train', 'test'], loc='upper left')\n",
        "plt.show()"
      ],
      "metadata": {
        "id": "ru0qNcPwVEXL",
        "colab": {
          "base_uri": "https://localhost:8080/",
          "height": 472
        },
        "outputId": "35465c10-da70-46e6-9116-64e6ed6a4caa"
      },
      "execution_count": null,
      "outputs": [
        {
          "output_type": "display_data",
          "data": {
            "text/plain": [
              "<Figure size 640x480 with 1 Axes>"
            ],
            "image/png": "[encoded data removed]"
          },
          "metadata": {}
        }
      ]
    },
    {
      "cell_type": "code",
      "source": [
        "# Extracting predictions for comments + difficulty\n",
        "\n",
        "difficulty_prediction = text_classification_model.predict(test_difficulty)"
      ],
      "metadata": {
        "id": "Cp79w1YYNi6K",
        "colab": {
          "base_uri": "https://localhost:8080/"
        },
        "outputId": "c233317d-0f4f-4a65-bdc0-7325d08a1ab1"
      },
      "execution_count": null,
      "outputs": [
        {
          "output_type": "stream",
          "name": "stdout",
          "text": [
            "64/64 [==============================] - 2s 26ms/step\n"
          ]
        }
      ]
    },
    {
      "cell_type": "code",
      "source": [
        "# Outputting predictions for comments + difficulty\n",
        "\n",
        "print('Model Predictions for Comments + Difficulty')\n",
        "difficulty_prediction[:15]"
      ],
      "metadata": {
        "id": "zbz8yFW1NkZX",
        "colab": {
          "base_uri": "https://localhost:8080/"
        },
        "outputId": "c9b94203-b6a9-434a-d151-2bebaad8c603"
      },
      "execution_count": null,
      "outputs": [
        {
          "output_type": "stream",
          "name": "stdout",
          "text": [
            "Model Predictions for Comments + Difficulty\n"
          ]
        },
        {
          "output_type": "execute_result",
          "data": {
            "text/plain": [
              "array([[3.6973643],\n",
              "       [3.5197186],\n",
              "       [1.5837731],\n",
              "       [3.2115076],\n",
              "       [3.6552541],\n",
              "       [1.7479787],\n",
              "       [1.6452461],\n",
              "       [2.4685345],\n",
              "       [2.2331152],\n",
              "       [3.3380375],\n",
              "       [1.6327082],\n",
              "       [2.9448009],\n",
              "       [2.8006961],\n",
              "       [1.415013 ],\n",
              "       [3.198589 ]], dtype=float32)"
            ]
          },
          "metadata": {},
          "execution_count": 45
        }
      ]
    },
    {
      "cell_type": "code",
      "source": [
        "# Outputting average difficulty scores from original dataset\n",
        "\n",
        "print('Original Comments + Difficulty Dataset')\n",
        "for comment, difficulty in test_difficulty.take(15):\n",
        "  print(np.average(difficulty.numpy()))"
      ],
      "metadata": {
        "id": "CcB5CR0QNlzW",
        "colab": {
          "base_uri": "https://localhost:8080/"
        },
        "outputId": "e9e3a942-f332-48a8-822f-fc60d4fd7e88"
      },
      "execution_count": null,
      "outputs": [
        {
          "output_type": "stream",
          "name": "stdout",
          "text": [
            "Original Comments + Difficulty Dataset\n",
            "2.8125\n",
            "3.25\n",
            "2.8125\n",
            "2.46875\n",
            "3.65625\n",
            "3.84375\n",
            "3.53125\n",
            "2.9375\n",
            "3.796875\n",
            "2.84375\n",
            "3.59375\n",
            "2.59375\n",
            "3.15625\n",
            "2.65625\n",
            "2.84375\n"
          ]
        }
      ]
    },
    {
      "cell_type": "code",
      "source": [
        "difficulty_score = text_classification_model.evaluate(test_difficulty)\n",
        "\n",
        "print('Test Loss for Comment + Difficulty:', difficulty_score[0])\n",
        "print('Test MSE for Comment + Difficulty: ', difficulty_score[1])\n",
        "print('Test MAE for Comment + Difficulty: ', difficulty_score[2])\n",
        "print('Test Accuracy for Comment + Difficulty: ', difficulty_score[3])"
      ],
      "metadata": {
        "id": "hDT_a6t3NnsS",
        "colab": {
          "base_uri": "https://localhost:8080/"
        },
        "outputId": "1e497b11-a4d8-4c69-fba1-f71b2e336e01"
      },
      "execution_count": null,
      "outputs": [
        {
          "output_type": "stream",
          "name": "stdout",
          "text": [
            "64/64 [==============================] - 3s 41ms/step - loss: 1.6642 - mse: 1.6642 - mae: 1.0277 - accuracy: 0.1553\n",
            "Test Loss for Comment + Difficulty: 1.6642346382141113\n",
            "Test MSE for Comment + Difficulty:  1.6642346382141113\n",
            "Test MAE for Comment + Difficulty:  1.027720332145691\n",
            "Test Accuracy for Comment + Difficulty:  0.15532544255256653\n"
          ]
        }
      ]
    },
    {
      "cell_type": "markdown",
      "source": [
        "**Saving text_classification_model**"
      ],
      "metadata": {
        "id": "gjPR5unuNqoP"
      }
    },
    {
      "cell_type": "code",
      "source": [
        "# Save Model\n",
        "\n",
        "text_classification_model.save('text_classification_model')"
      ],
      "metadata": {
        "id": "2esVcBHpNqOs",
        "colab": {
          "base_uri": "https://localhost:8080/"
        },
        "outputId": "e4a3b637-8011-49fb-e102-4976532769c8"
      },
      "execution_count": null,
      "outputs": [
        {
          "output_type": "stream",
          "name": "stderr",
          "text": [
            "WARNING:absl:Found untraced functions such as _update_step_xla, lstm_cell_1_layer_call_fn, lstm_cell_1_layer_call_and_return_conditional_losses, lstm_cell_2_layer_call_fn, lstm_cell_2_layer_call_and_return_conditional_losses while saving (showing 5 of 5). These functions will not be directly callable after loading.\n"
          ]
        }
      ]
    }
  ]
}